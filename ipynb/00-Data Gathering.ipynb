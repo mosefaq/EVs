{
 "cells": [
  {
   "cell_type": "markdown",
   "id": "2bb47067-4aed-4973-b586-913d67be72d0",
   "metadata": {},
   "source": [
    "Project is inspired by [Analytics Vidhya](https://www.analyticsvidhya.com/blog/2021/09/data-analysis-and-price-prediction-of-electric-vehicles/) and is an update on this [Kaggle dataset](https://www.kaggle.com/datasets/kkhandekar/cheapest-electric-cars)"
   ]
  },
  {
   "cell_type": "code",
   "execution_count": 1,
   "id": "fea1a125-a71d-4a8b-9ae8-29cd907b0b88",
   "metadata": {},
   "outputs": [],
   "source": [
    "import numpy as np\n",
    "import regex as re\n",
    "import pandas as pd\n",
    "\n",
    "import selenium\n",
    "from selenium import webdriver\n",
    "from selenium.webdriver.common.by import By\n",
    "from selenium.webdriver.common.keys import Keys\n",
    "from selenium.webdriver.support.ui import WebDriverWait\n",
    "from selenium.webdriver.support import expected_conditions as EC"
   ]
  },
  {
   "cell_type": "code",
   "execution_count": 831,
   "id": "c87e9ba1-d530-4629-bbbd-1446b6326d1f",
   "metadata": {},
   "outputs": [],
   "source": [
    "with open('data/paths.txt') as path:\n",
    "    paths = path.read().split('\\n')"
   ]
  },
  {
   "cell_type": "code",
   "execution_count": 9,
   "id": "3ac109b0-b212-420a-a367-15b39e74e7ac",
   "metadata": {},
   "outputs": [],
   "source": [
    "driver_path = paths[1]\n",
    "brave_path = paths[2]\n",
    "# extensions = open('../data/paths.txt','r').read().split('\\n')\n",
    "# u_block = extensions[2]\n",
    "\n",
    "option = webdriver.ChromeOptions()\n",
    "option.binary_location = brave_path\n",
    "option.add_argument('--disable-dev-shm-usage')\n",
    "option.add_experimental_option(\"detach\", True)\n",
    "# option.add_argument('--load-extension='+u_block)\n",
    "\n",
    "# Create new Instance of Chrome\n",
    "from selenium.webdriver.common.desired_capabilities import DesiredCapabilities\n",
    "# enable browser logging\n",
    "d = DesiredCapabilities.CHROME\n",
    "d['goog:loggingPrefs'] = { 'browser':'ALL' }"
   ]
  },
  {
   "cell_type": "code",
   "execution_count": 11,
   "id": "b5a0ead6-5202-4cd8-99f4-bfe6f556ce1b",
   "metadata": {},
   "outputs": [
    {
     "name": "stderr",
     "output_type": "stream",
     "text": [
      "C:\\Users\\Mohammed\\AppData\\Local\\Temp\\ipykernel_10384\\1098924167.py:2: DeprecationWarning: executable_path has been deprecated, please pass in a Service object\n",
      "  browser = webdriver.Chrome(executable_path=driver_path, options=option, desired_capabilities=d);\n"
     ]
    }
   ],
   "source": [
    "# def seleniumCall():\n",
    "browser = webdriver.Chrome(executable_path=driver_path, options=option, desired_capabilities=d);\n",
    "wait = WebDriverWait(browser, timeout=10, poll_frequency=1)\n",
    "\n",
    "url = 'https://ev-database.org/#sort:path~type~order=.rank~number~desc|range-slider-range:prev~next=0~1200|range-slider-acceleration:prev~next=2~23|range-slider-topspeed:prev~next=110~350|range-slider-battery:prev~next=10~200|range-slider-towweight:prev~next=0~2500|range-slider-fastcharge:prev~next=0~1500|paging:currentPage=0|paging:number=all'\n",
    "browser.get(url)\n",
    "winds = browser.window_handles\n",
    "\n",
    "browser.switch_to.window(winds[0])\n",
    "browser.maximize_window()"
   ]
  },
  {
   "cell_type": "code",
   "execution_count": 4,
   "id": "d0c87701-2e45-4830-a11f-7f61444c422a",
   "metadata": {},
   "outputs": [],
   "source": [
    "def clickXP(string):\n",
    "    element = wait.until(EC.presence_of_element_located((By.XPATH, string)))\n",
    "    return element    \n",
    "\n",
    "def selectXP(string):\n",
    "    # element = browser.find_element(By.XPATH,string)\n",
    "    element = wait.until(EC.presence_of_element_located((By.XPATH, string)))\n",
    "    return element"
   ]
  },
  {
   "cell_type": "code",
   "execution_count": 12,
   "id": "977f4ae7-0746-408a-8dc8-e4e30b41d11d",
   "metadata": {},
   "outputs": [],
   "source": [
    "clickXP('//*[@id=\"evdb\"]/div[2]/div[2]/div[1]/div[2]/div[2]/button[1]/p').click()"
   ]
  },
  {
   "cell_type": "code",
   "execution_count": 39,
   "id": "fd6ca2c5-5e4c-4481-b6f4-32abbff707bb",
   "metadata": {},
   "outputs": [],
   "source": [
    "full_list = selectXP('//*[@id=\"evdb\"]/main/div[2]/div[3]')"
   ]
  },
  {
   "cell_type": "code",
   "execution_count": 40,
   "id": "c4137a8a-411d-455d-909f-46dda4f068f0",
   "metadata": {},
   "outputs": [],
   "source": [
    "lst = full_list.find_elements(By.CLASS_NAME,'data-wrapper')"
   ]
  },
  {
   "cell_type": "code",
   "execution_count": 74,
   "id": "f8f49174-ef2e-464a-8aeb-593c09faae68",
   "metadata": {},
   "outputs": [],
   "source": [
    "dic_list = []\n",
    "\n",
    "for item in lst:\n",
    "    car = item.text.split('\\n')\n",
    "\n",
    "    dic = {}\n",
    "    dic['title'] = car[0]\n",
    "    dic['useable_battery'] = car[1]\n",
    "    dic['date'] = car[2]\n",
    "    \n",
    "    tow_split = car[3].split(' ')\n",
    "    if len(tow_split)>1:\n",
    "        dic['towing'] = tow_split[0]\n",
    "        dic['market_segment'] = tow_split[1][0]\n",
    "        dic['seats'] = tow_split[1][1]\n",
    "    else:\n",
    "        dic['towing'] = np.nan\n",
    "        dic['market_segment'] = tow_split[0][0]\n",
    "        dic['seats'] =  tow_split[0][1]\n",
    "            \n",
    "    dic['acceleration'] = car[5]\n",
    "    dic['max_speed'] = car[7]\n",
    "    dic['real_range'] = car[9]\n",
    "    dic['efficiency'] = car[11]\n",
    "    dic['fastcharge'] = car[13]\n",
    "    dic['price_germany'] = car[14]\n",
    "    dic['price_ned'] = car[15]\n",
    "    dic['price_uk'] = car[16]\n",
    "    \n",
    "    dic_list.append(dic)"
   ]
  },
  {
   "cell_type": "code",
   "execution_count": 341,
   "id": "7ea0e56b-9cfe-4905-afe4-9190134d9b07",
   "metadata": {},
   "outputs": [
    {
     "data": {
      "text/html": [
       "<div>\n",
       "<style scoped>\n",
       "    .dataframe tbody tr th:only-of-type {\n",
       "        vertical-align: middle;\n",
       "    }\n",
       "\n",
       "    .dataframe tbody tr th {\n",
       "        vertical-align: top;\n",
       "    }\n",
       "\n",
       "    .dataframe thead th {\n",
       "        text-align: right;\n",
       "    }\n",
       "</style>\n",
       "<table border=\"1\" class=\"dataframe\">\n",
       "  <thead>\n",
       "    <tr style=\"text-align: right;\">\n",
       "      <th></th>\n",
       "      <th>title</th>\n",
       "      <th>useable_battery</th>\n",
       "      <th>date</th>\n",
       "      <th>towing</th>\n",
       "      <th>market_segment</th>\n",
       "      <th>seats</th>\n",
       "      <th>acceleration</th>\n",
       "      <th>max_speed</th>\n",
       "      <th>real_range</th>\n",
       "      <th>efficiency</th>\n",
       "      <th>fastcharge</th>\n",
       "      <th>price_germany</th>\n",
       "      <th>price_ned</th>\n",
       "      <th>price_uk</th>\n",
       "    </tr>\n",
       "  </thead>\n",
       "  <tbody>\n",
       "    <tr>\n",
       "      <th>0</th>\n",
       "      <td>Tesla Model Y Long Range Dual Motor</td>\n",
       "      <td>75 kWh useable battery*</td>\n",
       "      <td>Available since February 2022</td>\n",
       "      <td>1600</td>\n",
       "      <td>D</td>\n",
       "      <td>5</td>\n",
       "      <td>5.0 sec</td>\n",
       "      <td>217 km/h</td>\n",
       "      <td>435 km</td>\n",
       "      <td>172 Wh/km</td>\n",
       "      <td>670 km/h</td>\n",
       "      <td>€59,017</td>\n",
       "      <td>€54,993</td>\n",
       "      <td>£52,990</td>\n",
       "    </tr>\n",
       "    <tr>\n",
       "      <th>1</th>\n",
       "      <td>Tesla Model Y</td>\n",
       "      <td>57.5 kWh useable battery*</td>\n",
       "      <td>Available since November 2022</td>\n",
       "      <td>1600</td>\n",
       "      <td>D</td>\n",
       "      <td>5</td>\n",
       "      <td>6.9 sec</td>\n",
       "      <td>217 km/h</td>\n",
       "      <td>345 km</td>\n",
       "      <td>167 Wh/km</td>\n",
       "      <td>580 km/h</td>\n",
       "      <td>€47,567</td>\n",
       "      <td>€47,993</td>\n",
       "      <td>£44,990</td>\n",
       "    </tr>\n",
       "    <tr>\n",
       "      <th>2</th>\n",
       "      <td>Tesla Model 3</td>\n",
       "      <td>57.5 kWh useable battery*</td>\n",
       "      <td>Available since December 2021</td>\n",
       "      <td>1000</td>\n",
       "      <td>D</td>\n",
       "      <td>5</td>\n",
       "      <td>6.1 sec</td>\n",
       "      <td>225 km/h</td>\n",
       "      <td>380 km</td>\n",
       "      <td>151 Wh/km</td>\n",
       "      <td>630 km/h</td>\n",
       "      <td>€46,667</td>\n",
       "      <td>€45,993</td>\n",
       "      <td>£42,990</td>\n",
       "    </tr>\n",
       "    <tr>\n",
       "      <th>3</th>\n",
       "      <td>BYD ATTO 3</td>\n",
       "      <td>60 kWh useable battery*</td>\n",
       "      <td>Available since August 2022</td>\n",
       "      <td>NaN</td>\n",
       "      <td>C</td>\n",
       "      <td>5</td>\n",
       "      <td>7.3 sec</td>\n",
       "      <td>160 km/h</td>\n",
       "      <td>320 km</td>\n",
       "      <td>188 Wh/km</td>\n",
       "      <td>300 km/h</td>\n",
       "      <td>€44,625</td>\n",
       "      <td>€42,998</td>\n",
       "      <td>N/A</td>\n",
       "    </tr>\n",
       "    <tr>\n",
       "      <th>4</th>\n",
       "      <td>Tesla Model 3 Long Range Dual Motor</td>\n",
       "      <td>75 kWh useable battery*</td>\n",
       "      <td>Available since November 2021</td>\n",
       "      <td>1000</td>\n",
       "      <td>D</td>\n",
       "      <td>5</td>\n",
       "      <td>4.4 sec</td>\n",
       "      <td>233 km/h</td>\n",
       "      <td>485 km</td>\n",
       "      <td>155 Wh/km</td>\n",
       "      <td>750 km/h</td>\n",
       "      <td>€56,667</td>\n",
       "      <td>€53,993</td>\n",
       "      <td>£50,990</td>\n",
       "    </tr>\n",
       "  </tbody>\n",
       "</table>\n",
       "</div>"
      ],
      "text/plain": [
       "                                 title            useable_battery  \\\n",
       "0  Tesla Model Y Long Range Dual Motor    75 kWh useable battery*   \n",
       "1                        Tesla Model Y  57.5 kWh useable battery*   \n",
       "2                        Tesla Model 3  57.5 kWh useable battery*   \n",
       "3                           BYD ATTO 3    60 kWh useable battery*   \n",
       "4  Tesla Model 3 Long Range Dual Motor    75 kWh useable battery*   \n",
       "\n",
       "                            date towing market_segment seats acceleration  \\\n",
       "0  Available since February 2022   1600              D     5      5.0 sec   \n",
       "1  Available since November 2022   1600              D     5      6.9 sec   \n",
       "2  Available since December 2021   1000              D     5      6.1 sec   \n",
       "3    Available since August 2022    NaN              C     5      7.3 sec   \n",
       "4  Available since November 2021   1000              D     5      4.4 sec   \n",
       "\n",
       "  max_speed real_range efficiency fastcharge price_germany price_ned price_uk  \n",
       "0  217 km/h     435 km  172 Wh/km   670 km/h       €59,017   €54,993  £52,990  \n",
       "1  217 km/h     345 km  167 Wh/km   580 km/h       €47,567   €47,993  £44,990  \n",
       "2  225 km/h     380 km  151 Wh/km   630 km/h       €46,667   €45,993  £42,990  \n",
       "3  160 km/h     320 km  188 Wh/km   300 km/h       €44,625   €42,998      N/A  \n",
       "4  233 km/h     485 km  155 Wh/km   750 km/h       €56,667   €53,993  £50,990  "
      ]
     },
     "execution_count": 341,
     "metadata": {},
     "output_type": "execute_result"
    }
   ],
   "source": [
    "ev_data = pd.DataFrame(data=dic_list,columns=list(dic.keys()))\n",
    "ev_data.head()"
   ]
  },
  {
   "cell_type": "code",
   "execution_count": 98,
   "id": "928d6b35-4320-4d3b-b98b-b408c4b46c5f",
   "metadata": {},
   "outputs": [
    {
     "name": "stdout",
     "output_type": "stream",
     "text": [
      "298 298 298 298 298 295\n"
     ]
    }
   ],
   "source": [
    "print(sum(ev_data.useable_battery.str.contains('useable battery*')),\n",
    "sum(ev_data.acceleration.str.contains('sec')),\n",
    "sum(ev_data.max_speed.str.contains('km.h')),\n",
    "sum(ev_data.real_range.str.contains('km')),\n",
    "sum(ev_data.efficiency.str.contains('Wh/km')),\n",
    "sum(ev_data.fastcharge.str.contains('km/h')))"
   ]
  },
  {
   "cell_type": "code",
   "execution_count": 173,
   "id": "f877af6d-5781-45bd-b89f-016a5a2e6c1e",
   "metadata": {},
   "outputs": [
    {
     "data": {
      "text/plain": [
       "275"
      ]
     },
     "execution_count": 173,
     "metadata": {},
     "output_type": "execute_result"
    }
   ],
   "source": [
    "sum(ev_data['date'].str.contains('since'))"
   ]
  },
  {
   "cell_type": "code",
   "execution_count": 176,
   "id": "bfc7aeb9-d86e-4979-b673-9cc61224efba",
   "metadata": {},
   "outputs": [
    {
     "data": {
      "text/plain": [
       "23"
      ]
     },
     "execution_count": 176,
     "metadata": {},
     "output_type": "execute_result"
    }
   ],
   "source": [
    "sum(ev_data['date'].str.contains('from'))"
   ]
  },
  {
   "cell_type": "code",
   "execution_count": 296,
   "id": "6dc46381-2a41-420d-8df0-321faf2b8989",
   "metadata": {},
   "outputs": [],
   "source": [
    "def numPart(string):\n",
    "    if string == '-':\n",
    "        return np.nan\n",
    "    else:\n",
    "        return re.search('[0-9,.]*',string).group()"
   ]
  },
  {
   "cell_type": "code",
   "execution_count": 192,
   "id": "0e007243-c1df-4770-a48d-640d5b704b72",
   "metadata": {},
   "outputs": [],
   "source": [
    "def getMonth(string):\n",
    "    #first space index\n",
    "    id1 = string.index(' ')\n",
    "    #second space index\n",
    "    id2 = id1 + string[id1+1:].index(' ')\n",
    "    \n",
    "    return string[id2+2:-5]"
   ]
  },
  {
   "cell_type": "code",
   "execution_count": 357,
   "id": "0f8d9428-87d3-491f-927c-c5bb15be29a7",
   "metadata": {},
   "outputs": [],
   "source": [
    "def getPrice(string):\n",
    "    if string == 'N/A':\n",
    "        return np.nan\n",
    "    else:\n",
    "        string = string.replace('€','')\n",
    "        string = string.replace('£','')\n",
    "        string = string.replace(',','')\n",
    "        string = string.replace('*','')\n",
    "        string = string.strip()\n",
    "        \n",
    "        return string"
   ]
  },
  {
   "cell_type": "code",
   "execution_count": 350,
   "id": "43322a06-176b-4037-b365-37f7a5c8b4bc",
   "metadata": {},
   "outputs": [],
   "source": [
    "string_cols = ['manufacturer','model','released','release_month','release_year']\n",
    "num_cols = ['useable_battery','acceleration','max_speed','real_range',\n",
    "             'efficiency','fastcharge']\n",
    "price_cols = ['price_germany','price_ned','price_uk']"
   ]
  },
  {
   "cell_type": "code",
   "execution_count": 358,
   "id": "fbefa0da-bde9-4128-a2a4-d034252dd110",
   "metadata": {},
   "outputs": [],
   "source": [
    "ev_data = pd.DataFrame(data=dic_list,columns=list(dic.keys()))\n",
    "ev_data['manufacturer'] = ev_data['title'].apply(lambda x: x[:x.index(' ')])\n",
    "ev_data['model'] = ev_data['title'].apply(lambda x: x[x.index(' ' ):])\n",
    "ev_data['released'] = ev_data['date'].apply(lambda x: 1 if 'since' in x else 0)\n",
    "ev_data['release_month'] = ev_data['date'].apply(lambda x: getMonth(x))\n",
    "ev_data['release_year'] = ev_data['date'].apply(lambda x: x[-4:])\n",
    "\n",
    "for col in num_cols:\n",
    "    ev_data[col] = np.vectorize(numPart)(ev_data[col])\n",
    "    \n",
    "for price in price_cols:\n",
    "    ev_data[price] = ev_data[price].apply(lambda x: getPrice(x))\n",
    "    \n",
    "for col in ['fastcharge']+price_cols:\n",
    "    ev_data[col] = ev_data[col].apply(lambda x: np.nan if x=='nan' else x) \n",
    "\n",
    "col_order = string_cols+num_cols+price_cols\n",
    "\n",
    "ev_data = ev_data[col_order]"
   ]
  },
  {
   "cell_type": "code",
   "execution_count": 359,
   "id": "234c21cd-221b-428b-a880-25c66a52f211",
   "metadata": {},
   "outputs": [],
   "source": [
    "for col in num_cols:\n",
    "    try:\n",
    "        ev_data[col] = ev_data[col].astype('Int64')\n",
    "    except:\n",
    "        ev_data[col] = ev_data[col].astype('float')"
   ]
  },
  {
   "cell_type": "code",
   "execution_count": 363,
   "id": "018f8034-f490-4b80-bd1c-06347d1fc4b4",
   "metadata": {},
   "outputs": [],
   "source": [
    "for price in price_cols:\n",
    "    ev_data[price] = ev_data[price].astype('Int64')"
   ]
  },
  {
   "cell_type": "code",
   "execution_count": 377,
   "id": "dcf582ad-1011-482c-a522-647b80fa0571",
   "metadata": {},
   "outputs": [],
   "source": [
    "ev_data[string_cols] = ev_data[string_cols].astype('category')"
   ]
  },
  {
   "cell_type": "code",
   "execution_count": 812,
   "id": "c1e45763-7e44-4773-95c3-1d4aac41699e",
   "metadata": {},
   "outputs": [
    {
     "name": "stdout",
     "output_type": "stream",
     "text": [
      "<class 'pandas.core.frame.DataFrame'>\n",
      "RangeIndex: 298 entries, 0 to 297\n",
      "Data columns (total 14 columns):\n",
      " #   Column           Non-Null Count  Dtype   \n",
      "---  ------           --------------  -----   \n",
      " 0   manufacturer     298 non-null    category\n",
      " 1   model            298 non-null    object  \n",
      " 2   released         298 non-null    category\n",
      " 3   release_month    298 non-null    category\n",
      " 4   release_year     298 non-null    category\n",
      " 5   useable_battery  298 non-null    float64 \n",
      " 6   acceleration     298 non-null    float64 \n",
      " 7   max_speed        298 non-null    Int64   \n",
      " 8   real_range       298 non-null    Int64   \n",
      " 9   efficiency       298 non-null    Int64   \n",
      " 10  fastcharge       295 non-null    Int64   \n",
      " 11  price_germany    273 non-null    Int64   \n",
      " 12  price_ned        266 non-null    Int64   \n",
      " 13  price_uk         187 non-null    Int64   \n",
      "dtypes: Int64(7), category(4), float64(2), object(1)\n",
      "memory usage: 28.8+ KB\n"
     ]
    }
   ],
   "source": [
    "ev_data.info()"
   ]
  },
  {
   "cell_type": "code",
   "execution_count": 813,
   "id": "69f541d3-02d9-43ef-b778-bc09b4aee531",
   "metadata": {},
   "outputs": [],
   "source": [
    "ev_data.to_csv('../data/ev_data.csv')"
   ]
  }
 ],
 "metadata": {
  "kernelspec": {
   "display_name": "assessment4env",
   "language": "python",
   "name": "assessment4env"
  },
  "language_info": {
   "codemirror_mode": {
    "name": "ipython",
    "version": 3
   },
   "file_extension": ".py",
   "mimetype": "text/x-python",
   "name": "python",
   "nbconvert_exporter": "python",
   "pygments_lexer": "ipython3",
   "version": "3.8.15"
  }
 },
 "nbformat": 4,
 "nbformat_minor": 5
}
