{
 "cells": [
  {
   "cell_type": "markdown",
   "id": "2bb47067-4aed-4973-b586-913d67be72d0",
   "metadata": {},
   "source": [
    "Project is inspired by [Analytics Vidhya](https://www.analyticsvidhya.com/blog/2021/09/data-analysis-and-price-prediction-of-electric-vehicles/) and is an update on this [Kaggle dataset](https://www.kaggle.com/datasets/kkhandekar/cheapest-electric-cars)"
   ]
  },
  {
   "cell_type": "code",
   "execution_count": 12,
   "id": "fea1a125-a71d-4a8b-9ae8-29cd907b0b88",
   "metadata": {},
   "outputs": [],
   "source": [
    "import numpy as np\n",
    "import regex as re\n",
    "import pandas as pd\n",
    "\n",
    "import selenium\n",
    "from selenium import webdriver\n",
    "from selenium.webdriver.common.by import By\n",
    "from selenium.webdriver.common.keys import Keys\n",
    "from selenium.webdriver.support.ui import WebDriverWait\n",
    "from selenium.webdriver.support import expected_conditions as EC\n",
    "from selenium.webdriver.chrome.service import Service\n",
    "from webdriver_manager.chrome import ChromeDriverManager"
   ]
  },
  {
   "cell_type": "code",
   "execution_count": 14,
   "id": "3ac109b0-b212-420a-a367-15b39e74e7ac",
   "metadata": {},
   "outputs": [],
   "source": [
    "option = webdriver.ChromeOptions()\n",
    "option.binary_location = chrome_path\n",
    "option.add_argument('--disable-dev-shm-usage')\n",
    "option.add_experimental_option(\"detach\", True)\n",
    "# option.add_argument('--load-extension='+u_block)\n",
    "\n",
    "# Create new Instance of Chrome\n",
    "from selenium.webdriver.common.desired_capabilities import DesiredCapabilities\n",
    "# enable browser logging\n",
    "d = DesiredCapabilities.CHROME\n",
    "d['goog:loggingPrefs'] = { 'browser':'ALL' }"
   ]
  },
  {
   "cell_type": "code",
   "execution_count": 13,
   "id": "b5a0ead6-5202-4cd8-99f4-bfe6f556ce1b",
   "metadata": {},
   "outputs": [
    {
     "name": "stderr",
     "output_type": "stream",
     "text": [
      "[WDM] - Downloading: 100%|████████████████████████████████████████████████████████| 6.78M/6.78M [00:02<00:00, 3.49MB/s]\n"
     ]
    }
   ],
   "source": [
    "# def seleniumCall():\n",
    "browser = webdriver.Chrome(service=Service(ChromeDriverManager().install()))\n",
    "# browser = webdriver.Chrome(executable_path=driver_path, options=option, desired_capabilities=d);\n",
    "wait = WebDriverWait(browser, timeout=10, poll_frequency=1)\n",
    "\n",
    "url = 'https://ev-database.org/#sort:path~type~order=.rank~number~desc|range-slider-range:prev~next=0~1200|range-slider-acceleration:prev~next=2~23|range-slider-topspeed:prev~next=110~350|range-slider-battery:prev~next=10~200|range-slider-towweight:prev~next=0~2500|range-slider-fastcharge:prev~next=0~1500|paging:currentPage=0|paging:number=all'\n",
    "browser.get(url)\n",
    "winds = browser.window_handles\n",
    "\n",
    "browser.switch_to.window(winds[0])\n",
    "browser.maximize_window()"
   ]
  },
  {
   "cell_type": "code",
   "execution_count": 15,
   "id": "d0c87701-2e45-4830-a11f-7f61444c422a",
   "metadata": {},
   "outputs": [],
   "source": [
    "def clickXP(string):\n",
    "    element = wait.until(EC.presence_of_element_located((By.XPATH, string)))\n",
    "    return element    \n",
    "\n",
    "def selectXP(string):\n",
    "    # element = browser.find_element(By.XPATH,string)\n",
    "    element = wait.until(EC.presence_of_element_located((By.XPATH, string)))\n",
    "    return element"
   ]
  },
  {
   "cell_type": "code",
   "execution_count": 16,
   "id": "977f4ae7-0746-408a-8dc8-e4e30b41d11d",
   "metadata": {},
   "outputs": [],
   "source": [
    "clickXP('//*[@id=\"evdb\"]/div[2]/div[2]/div[1]/div[2]/div[2]/button[1]/p').click()"
   ]
  },
  {
   "cell_type": "code",
   "execution_count": 17,
   "id": "fd6ca2c5-5e4c-4481-b6f4-32abbff707bb",
   "metadata": {},
   "outputs": [],
   "source": [
    "full_list = selectXP('//*[@id=\"evdb\"]/main/div[2]/div[3]')"
   ]
  },
  {
   "cell_type": "code",
   "execution_count": 125,
   "id": "c4137a8a-411d-455d-909f-46dda4f068f0",
   "metadata": {},
   "outputs": [],
   "source": [
    "lst = full_list.find_elements(By.CLASS_NAME,'data-wrapper')"
   ]
  },
  {
   "cell_type": "code",
   "execution_count": 164,
   "id": "51c0ac3b-c0f1-4d7d-b236-0efa98cb6ef6",
   "metadata": {},
   "outputs": [
    {
     "ename": "AttributeError",
     "evalue": "'NoneType' object has no attribute 'split'",
     "output_type": "error",
     "traceback": [
      "\u001b[1;31m---------------------------------------------------------------------------\u001b[0m",
      "\u001b[1;31mAttributeError\u001b[0m                            Traceback (most recent call last)",
      "\u001b[1;32m~\\AppData\\Local\\Temp\\ipykernel_756\\1722288338.py\u001b[0m in \u001b[0;36m<module>\u001b[1;34m\u001b[0m\n\u001b[0;32m     43\u001b[0m     \u001b[0mev_dict\u001b[0m\u001b[1;33m[\u001b[0m\u001b[1;34m'fastcharge'\u001b[0m\u001b[1;33m]\u001b[0m \u001b[1;33m=\u001b[0m  \u001b[0mfindXPATH\u001b[0m\u001b[1;33m(\u001b[0m\u001b[0mspecs\u001b[0m\u001b[1;33m,\u001b[0m\u001b[1;34m'./p[5]/span[3]'\u001b[0m\u001b[1;33m)\u001b[0m\u001b[1;33m.\u001b[0m\u001b[0mget_attribute\u001b[0m\u001b[1;33m(\u001b[0m\u001b[1;34m'textContent'\u001b[0m\u001b[1;33m)\u001b[0m\u001b[1;33m\u001b[0m\u001b[1;33m\u001b[0m\u001b[0m\n\u001b[0;32m     44\u001b[0m \u001b[1;33m\u001b[0m\u001b[0m\n\u001b[1;32m---> 45\u001b[1;33m     \u001b[0mpricing_split\u001b[0m \u001b[1;33m=\u001b[0m \u001b[0mpricing\u001b[0m\u001b[1;33m.\u001b[0m\u001b[0mtext\u001b[0m\u001b[1;33m.\u001b[0m\u001b[0msplit\u001b[0m\u001b[1;33m(\u001b[0m\u001b[1;34m'\\n'\u001b[0m\u001b[1;33m)\u001b[0m\u001b[1;33m\u001b[0m\u001b[1;33m\u001b[0m\u001b[0m\n\u001b[0m\u001b[0;32m     46\u001b[0m     \u001b[0mev_dict\u001b[0m\u001b[1;33m[\u001b[0m\u001b[1;34m'price_germany'\u001b[0m\u001b[1;33m]\u001b[0m \u001b[1;33m=\u001b[0m \u001b[0mpricing_split\u001b[0m\u001b[1;33m[\u001b[0m\u001b[1;36m0\u001b[0m\u001b[1;33m]\u001b[0m\u001b[1;33m\u001b[0m\u001b[1;33m\u001b[0m\u001b[0m\n\u001b[0;32m     47\u001b[0m     \u001b[0mev_dict\u001b[0m\u001b[1;33m[\u001b[0m\u001b[1;34m'price_ned'\u001b[0m\u001b[1;33m]\u001b[0m \u001b[1;33m=\u001b[0m \u001b[0mpricing_split\u001b[0m\u001b[1;33m[\u001b[0m\u001b[1;36m1\u001b[0m\u001b[1;33m]\u001b[0m\u001b[1;33m\u001b[0m\u001b[1;33m\u001b[0m\u001b[0m\n",
      "\u001b[1;31mAttributeError\u001b[0m: 'NoneType' object has no attribute 'split'"
     ]
    }
   ],
   "source": [
    "def findXPATH(element,xpath):\n",
    "    return element.find_element(By.XPATH,xpath)\n",
    "\n",
    "def findCLASS(element,class_name):\n",
    "    return element.find_element(By.CLASS_NAME,class_name)\n",
    "\n",
    "ev_list = []\n",
    "\n",
    "for item in lst:\n",
    "    ev_dict = {}\n",
    "    title_wrap = findCLASS(item,'title-wrap')\n",
    "    icons = findCLASS(item,'icons')\n",
    "    specs = findCLASS(item,'specs')\n",
    "    pricing = findCLASS(item,'pricing')\n",
    "\n",
    "    title_split = title_wrap.text.split('\\n')\n",
    "    car = title_split[0]\n",
    "    ev_dict['manufacturer'] = car.split(' ')[0]\n",
    "    ev_dict['model'] = car.split(' ')[1]\n",
    "    ev_dict['kwh'] = title_split[1]\n",
    "    ev_dict['release'] = title_split[2]\n",
    "\n",
    "    try: #not all cars have towing\n",
    "        ev_dict['towweight'] = findCLASS(icons,'towweight').text\n",
    "        ev_dict['drive'] = findXPATH(icons,'./span[4]').get_property('title')\n",
    "        ev_dict['plug'] = findXPATH(icons,'./span[5]').get_attribute('textContent') #hidden element\n",
    "        ev_dict['body'] = findXPATH(icons,'./span[6]').get_attribute('textContent')\n",
    "        ev_dict['market_segment'] = findXPATH(icons,'./span[7]').text\n",
    "        ev_dict['seats'] = findXPATH(icons,'./span[9]').text\n",
    "    except: #if no towweight, span nums change\n",
    "        ev_dict['towweight'] = 0\n",
    "        ev_dict['drive'] = findXPATH(icons,'./span[2]').get_property('title')\n",
    "        ev_dict['plug'] = findXPATH(icons,'./span[3]').get_attribute('textContent') #hidden element\n",
    "        ev_dict['body'] = findXPATH(icons,'./span[4]').get_attribute('textContent')\n",
    "        ev_dict['market_segment'] = findXPATH(icons,'./span[5]').text\n",
    "        ev_dict['seats'] = findXPATH(icons,'./span[7]').text\n",
    "\n",
    "\n",
    "    ev_dict['acceleration'] = findCLASS(specs,'acceleration').text\n",
    "    ev_dict['max_speed'] = findCLASS(specs,'topspeed').text\n",
    "    ev_dict['real_range'] =  findCLASS(specs,'erange_real').text\n",
    "    ev_dict['efficiency'] =  findCLASS(specs,'efficiency').text\n",
    "    ev_dict['fastcharge'] =  findXPATH(specs,'./p[5]/span[3]').get_attribute('textContent')\n",
    "\n",
    "    pricing_split = pricing.text.split('\\n')\n",
    "    ev_dict['price_germany'] = pricing_split[0]\n",
    "    ev_dict['price_ned'] = pricing_split[1]\n",
    "    ev_dict['price_uk'] = pricing_split[2]\n",
    "    \n",
    "    ev_list.append(ev_dict)"
   ]
  },
  {
   "cell_type": "code",
   "execution_count": 154,
   "id": "1ebccb6b-1e24-4bbb-af9c-1fddbdb93a4b",
   "metadata": {},
   "outputs": [],
   "source": [
    "ev_data = pd.DataFrame(data=ev_list,columns=list(ev_dict.keys()))"
   ]
  },
  {
   "cell_type": "code",
   "execution_count": 155,
   "id": "0163711b-8e23-49e3-adae-4ce7cdafe92e",
   "metadata": {},
   "outputs": [
    {
     "data": {
      "text/html": [
       "<div>\n",
       "<style scoped>\n",
       "    .dataframe tbody tr th:only-of-type {\n",
       "        vertical-align: middle;\n",
       "    }\n",
       "\n",
       "    .dataframe tbody tr th {\n",
       "        vertical-align: top;\n",
       "    }\n",
       "\n",
       "    .dataframe thead th {\n",
       "        text-align: right;\n",
       "    }\n",
       "</style>\n",
       "<table border=\"1\" class=\"dataframe\">\n",
       "  <thead>\n",
       "    <tr style=\"text-align: right;\">\n",
       "      <th></th>\n",
       "      <th>manufacturer</th>\n",
       "      <th>model</th>\n",
       "      <th>kwh</th>\n",
       "      <th>release</th>\n",
       "      <th>towweight</th>\n",
       "      <th>drive</th>\n",
       "      <th>plug</th>\n",
       "      <th>body</th>\n",
       "      <th>market_segment</th>\n",
       "      <th>seats</th>\n",
       "      <th>acceleration</th>\n",
       "      <th>max_speed</th>\n",
       "      <th>real_range</th>\n",
       "      <th>efficiency</th>\n",
       "      <th>fastcharge</th>\n",
       "      <th>price_germany</th>\n",
       "      <th>price_ned</th>\n",
       "      <th>price_uk</th>\n",
       "    </tr>\n",
       "  </thead>\n",
       "  <tbody>\n",
       "    <tr>\n",
       "      <th>0</th>\n",
       "      <td>Tesla</td>\n",
       "      <td>Model</td>\n",
       "      <td>75 kWh useable battery*</td>\n",
       "      <td>Available since February 2022</td>\n",
       "      <td>1600</td>\n",
       "      <td>All Wheel Drive</td>\n",
       "      <td>Type 2 CCS</td>\n",
       "      <td>SUV</td>\n",
       "      <td>D</td>\n",
       "      <td>5</td>\n",
       "      <td>5.0 sec</td>\n",
       "      <td>217 km/h</td>\n",
       "      <td>435 km</td>\n",
       "      <td>172 Wh/km</td>\n",
       "      <td>670</td>\n",
       "      <td>€59,017</td>\n",
       "      <td>€54,993</td>\n",
       "      <td>£52,990</td>\n",
       "    </tr>\n",
       "    <tr>\n",
       "      <th>1</th>\n",
       "      <td>Tesla</td>\n",
       "      <td>Model</td>\n",
       "      <td>57.5 kWh useable battery*</td>\n",
       "      <td>Available since November 2022</td>\n",
       "      <td>1600</td>\n",
       "      <td>Rear Wheel Drive</td>\n",
       "      <td>Type 2 CCS</td>\n",
       "      <td>SUV</td>\n",
       "      <td>D</td>\n",
       "      <td>5</td>\n",
       "      <td>6.9 sec</td>\n",
       "      <td>217 km/h</td>\n",
       "      <td>345 km</td>\n",
       "      <td>167 Wh/km</td>\n",
       "      <td>580</td>\n",
       "      <td>€47,567</td>\n",
       "      <td>€47,993</td>\n",
       "      <td>£44,990</td>\n",
       "    </tr>\n",
       "    <tr>\n",
       "      <th>2</th>\n",
       "      <td>Tesla</td>\n",
       "      <td>Model</td>\n",
       "      <td>57.5 kWh useable battery*</td>\n",
       "      <td>Available since December 2021</td>\n",
       "      <td>1000</td>\n",
       "      <td>Rear Wheel Drive</td>\n",
       "      <td>Type 2 CCS</td>\n",
       "      <td>Sedan</td>\n",
       "      <td>D</td>\n",
       "      <td>5</td>\n",
       "      <td>6.1 sec</td>\n",
       "      <td>225 km/h</td>\n",
       "      <td>380 km</td>\n",
       "      <td>151 Wh/km</td>\n",
       "      <td>630</td>\n",
       "      <td>€46,667</td>\n",
       "      <td>€45,993</td>\n",
       "      <td>£42,990</td>\n",
       "    </tr>\n",
       "    <tr>\n",
       "      <th>3</th>\n",
       "      <td>Tesla</td>\n",
       "      <td>Model</td>\n",
       "      <td>75 kWh useable battery*</td>\n",
       "      <td>Available since November 2021</td>\n",
       "      <td>1000</td>\n",
       "      <td>All Wheel Drive</td>\n",
       "      <td>Type 2 CCS</td>\n",
       "      <td>Sedan</td>\n",
       "      <td>D</td>\n",
       "      <td>5</td>\n",
       "      <td>4.4 sec</td>\n",
       "      <td>233 km/h</td>\n",
       "      <td>485 km</td>\n",
       "      <td>155 Wh/km</td>\n",
       "      <td>750</td>\n",
       "      <td>€56,667</td>\n",
       "      <td>€53,993</td>\n",
       "      <td>£50,990</td>\n",
       "    </tr>\n",
       "    <tr>\n",
       "      <th>4</th>\n",
       "      <td>BYD</td>\n",
       "      <td>ATTO</td>\n",
       "      <td>60 kWh useable battery*</td>\n",
       "      <td>Available since August 2022</td>\n",
       "      <td>NaN</td>\n",
       "      <td>Front Wheel Drive</td>\n",
       "      <td>Type 2 CCS</td>\n",
       "      <td>SUV</td>\n",
       "      <td>C</td>\n",
       "      <td>5</td>\n",
       "      <td>7.3 sec</td>\n",
       "      <td>160 km/h</td>\n",
       "      <td>320 km</td>\n",
       "      <td>188 Wh/km</td>\n",
       "      <td>300</td>\n",
       "      <td>€44,625</td>\n",
       "      <td>€42,998</td>\n",
       "      <td>N/A</td>\n",
       "    </tr>\n",
       "  </tbody>\n",
       "</table>\n",
       "</div>"
      ],
      "text/plain": [
       "  manufacturer  model                        kwh  \\\n",
       "0        Tesla  Model    75 kWh useable battery*   \n",
       "1        Tesla  Model  57.5 kWh useable battery*   \n",
       "2        Tesla  Model  57.5 kWh useable battery*   \n",
       "3        Tesla  Model    75 kWh useable battery*   \n",
       "4          BYD   ATTO    60 kWh useable battery*   \n",
       "\n",
       "                         release towweight              drive        plug  \\\n",
       "0  Available since February 2022      1600    All Wheel Drive  Type 2 CCS   \n",
       "1  Available since November 2022      1600   Rear Wheel Drive  Type 2 CCS   \n",
       "2  Available since December 2021      1000   Rear Wheel Drive  Type 2 CCS   \n",
       "3  Available since November 2021      1000    All Wheel Drive  Type 2 CCS   \n",
       "4    Available since August 2022       NaN  Front Wheel Drive  Type 2 CCS   \n",
       "\n",
       "    body market_segment seats acceleration max_speed real_range efficiency  \\\n",
       "0    SUV              D     5      5.0 sec  217 km/h     435 km  172 Wh/km   \n",
       "1    SUV              D     5      6.9 sec  217 km/h     345 km  167 Wh/km   \n",
       "2  Sedan              D     5      6.1 sec  225 km/h     380 km  151 Wh/km   \n",
       "3  Sedan              D     5      4.4 sec  233 km/h     485 km  155 Wh/km   \n",
       "4    SUV              C     5      7.3 sec  160 km/h     320 km  188 Wh/km   \n",
       "\n",
       "  fastcharge price_germany price_ned price_uk  \n",
       "0        670       €59,017   €54,993  £52,990  \n",
       "1        580       €47,567   €47,993  £44,990  \n",
       "2        630       €46,667   €45,993  £42,990  \n",
       "3        750       €56,667   €53,993  £50,990  \n",
       "4        300       €44,625   €42,998      N/A  "
      ]
     },
     "execution_count": 155,
     "metadata": {},
     "output_type": "execute_result"
    }
   ],
   "source": [
    "ev_data.head()"
   ]
  },
  {
   "cell_type": "markdown",
   "id": "a30cde79-3ec5-410e-bb08-e0c36eabb338",
   "metadata": {},
   "source": [
    "## Data Cleaning"
   ]
  },
  {
   "cell_type": "code",
   "execution_count": 165,
   "id": "e775f0c0-647f-455c-a9b4-d41e50e88c5f",
   "metadata": {},
   "outputs": [
    {
     "name": "stdout",
     "output_type": "stream",
     "text": [
      "<class 'pandas.core.frame.DataFrame'>\n",
      "RangeIndex: 298 entries, 0 to 297\n",
      "Data columns (total 19 columns):\n",
      " #   Column          Non-Null Count  Dtype \n",
      "---  ------          --------------  ----- \n",
      " 0   manufacturer    298 non-null    object\n",
      " 1   model           298 non-null    object\n",
      " 2   kwh             298 non-null    object\n",
      " 3   release         298 non-null    object\n",
      " 4   towweight       194 non-null    object\n",
      " 5   drive           298 non-null    object\n",
      " 6   plug            298 non-null    object\n",
      " 7   body            298 non-null    object\n",
      " 8   market_segment  298 non-null    object\n",
      " 9   seats           298 non-null    object\n",
      " 10  acceleration    298 non-null    object\n",
      " 11  max_speed       298 non-null    object\n",
      " 12  real_range      298 non-null    object\n",
      " 13  efficiency      298 non-null    object\n",
      " 14  fastcharge      298 non-null    object\n",
      " 15  price_germany   298 non-null    object\n",
      " 16  price_ned       298 non-null    object\n",
      " 17  price_uk        298 non-null    object\n",
      " 18  towing          298 non-null    int64 \n",
      "dtypes: int64(1), object(18)\n",
      "memory usage: 44.4+ KB\n"
     ]
    }
   ],
   "source": [
    "ev_data.info()"
   ]
  },
  {
   "cell_type": "markdown",
   "id": "769a44ad-2ad4-4fe6-b75e-0d4d11c78aff",
   "metadata": {},
   "source": [
    "To start, we want to transform 'release' column into:\n",
    " - 'released': Whether the car has been released or not\n",
    " - 'release_month': What month the car was/will be released\n",
    " - 'release_year': What year the car was/will be released"
   ]
  },
  {
   "cell_type": "markdown",
   "id": "039cb0b8-7016-499d-a713-7a04506fe060",
   "metadata": {},
   "source": [
    "275 cars released, 23 yet to be released:"
   ]
  },
  {
   "cell_type": "code",
   "execution_count": 166,
   "id": "f877af6d-5781-45bd-b89f-016a5a2e6c1e",
   "metadata": {},
   "outputs": [
    {
     "name": "stdout",
     "output_type": "stream",
     "text": [
      "Released: 275 \n",
      "Yet to be released: 23\n"
     ]
    }
   ],
   "source": [
    "print('Released:', sum(ev_data['release'].str.contains('since')), '\\nYet to be released:', sum(ev_data['release'].str.contains('from')))"
   ]
  },
  {
   "cell_type": "code",
   "execution_count": null,
   "id": "4d3706a5-4d8c-4c86-bff1-4404fbeffa73",
   "metadata": {},
   "outputs": [],
   "source": []
  },
  {
   "cell_type": "code",
   "execution_count": 143,
   "id": "0e007243-c1df-4770-a48d-640d5b704b72",
   "metadata": {},
   "outputs": [],
   "source": [
    "def getMonth(string):\n",
    "    '''\n",
    "    Description:\n",
    "    For specific release string, retrieves the month that the car is released/to be released\n",
    "    \n",
    "    Parameters:\n",
    "     - str - str type object\n",
    "     \n",
    "    Returns:\n",
    "    str\n",
    "    \n",
    "    Example:\n",
    "    >>> input:  yearDelay('Available since February 2022')\n",
    "    >>> output: True\n",
    "    '''\n",
    "    return string[id2+2:-5]"
   ]
  },
  {
   "cell_type": "code",
   "execution_count": null,
   "id": "0362bd4e-3a82-48d7-b67c-e2979f9084fe",
   "metadata": {},
   "outputs": [],
   "source": [
    "re.search('[\\w*\\s]{2}\\w*','Available since February 2022').group()"
   ]
  },
  {
   "cell_type": "code",
   "execution_count": null,
   "id": "692b0be3-87aa-4000-89af-9ce10a2f157d",
   "metadata": {},
   "outputs": [],
   "source": [
    "string_col = ['model']\n",
    "categ_cols = ['manufacturer','released','release_month','release_year','drive','body','seats','market_segment','plug','towing']\n",
    "num_cols = ['towweight','kwh','acceleration','max_speed','real_range','efficiency','fastcharge']\n",
    "price_cols = ['price_germany','price_ned','price_uk']"
   ]
  },
  {
   "cell_type": "code",
   "execution_count": null,
   "id": "7edf4a0c-014e-47ba-9e49-a246387562f0",
   "metadata": {},
   "outputs": [],
   "source": [
    "for price in price_cols:\n",
    "    print(sum(ev_data[price]=='N/A'))"
   ]
  },
  {
   "cell_type": "code",
   "execution_count": 144,
   "id": "928d6b35-4320-4d3b-b98b-b408c4b46c5f",
   "metadata": {},
   "outputs": [
    {
     "ename": "AttributeError",
     "evalue": "'DataFrame' object has no attribute 'max_speed'",
     "output_type": "error",
     "traceback": [
      "\u001b[1;31m---------------------------------------------------------------------------\u001b[0m",
      "\u001b[1;31mAttributeError\u001b[0m                            Traceback (most recent call last)",
      "\u001b[1;32m~\\AppData\\Local\\Temp\\ipykernel_756\\722785515.py\u001b[0m in \u001b[0;36m<module>\u001b[1;34m\u001b[0m\n\u001b[0;32m      1\u001b[0m print(sum(ev_data.kwh.str.contains('useable battery*')),\n\u001b[0;32m      2\u001b[0m \u001b[0msum\u001b[0m\u001b[1;33m(\u001b[0m\u001b[0mev_data\u001b[0m\u001b[1;33m.\u001b[0m\u001b[0macceleration\u001b[0m\u001b[1;33m.\u001b[0m\u001b[0mstr\u001b[0m\u001b[1;33m.\u001b[0m\u001b[0mcontains\u001b[0m\u001b[1;33m(\u001b[0m\u001b[1;34m'sec'\u001b[0m\u001b[1;33m)\u001b[0m\u001b[1;33m)\u001b[0m\u001b[1;33m,\u001b[0m\u001b[1;33m\u001b[0m\u001b[1;33m\u001b[0m\u001b[0m\n\u001b[1;32m----> 3\u001b[1;33m \u001b[0msum\u001b[0m\u001b[1;33m(\u001b[0m\u001b[0mev_data\u001b[0m\u001b[1;33m.\u001b[0m\u001b[0mmax_speed\u001b[0m\u001b[1;33m.\u001b[0m\u001b[0mstr\u001b[0m\u001b[1;33m.\u001b[0m\u001b[0mcontains\u001b[0m\u001b[1;33m(\u001b[0m\u001b[1;34m'km.h'\u001b[0m\u001b[1;33m)\u001b[0m\u001b[1;33m)\u001b[0m\u001b[1;33m,\u001b[0m\u001b[1;33m\u001b[0m\u001b[1;33m\u001b[0m\u001b[0m\n\u001b[0m\u001b[0;32m      4\u001b[0m \u001b[0msum\u001b[0m\u001b[1;33m(\u001b[0m\u001b[0mev_data\u001b[0m\u001b[1;33m.\u001b[0m\u001b[0mreal_range\u001b[0m\u001b[1;33m.\u001b[0m\u001b[0mstr\u001b[0m\u001b[1;33m.\u001b[0m\u001b[0mcontains\u001b[0m\u001b[1;33m(\u001b[0m\u001b[1;34m'km'\u001b[0m\u001b[1;33m)\u001b[0m\u001b[1;33m)\u001b[0m\u001b[1;33m,\u001b[0m\u001b[1;33m\u001b[0m\u001b[1;33m\u001b[0m\u001b[0m\n\u001b[0;32m      5\u001b[0m \u001b[0msum\u001b[0m\u001b[1;33m(\u001b[0m\u001b[0mev_data\u001b[0m\u001b[1;33m.\u001b[0m\u001b[0mefficiency\u001b[0m\u001b[1;33m.\u001b[0m\u001b[0mstr\u001b[0m\u001b[1;33m.\u001b[0m\u001b[0mcontains\u001b[0m\u001b[1;33m(\u001b[0m\u001b[1;34m'Wh/km'\u001b[0m\u001b[1;33m)\u001b[0m\u001b[1;33m)\u001b[0m\u001b[1;33m,\u001b[0m\u001b[1;33m\u001b[0m\u001b[1;33m\u001b[0m\u001b[0m\n",
      "\u001b[1;32m~\\.conda\\envs\\assessment4env\\lib\\site-packages\\pandas\\core\\generic.py\u001b[0m in \u001b[0;36m__getattr__\u001b[1;34m(self, name)\u001b[0m\n\u001b[0;32m   5581\u001b[0m         ):\n\u001b[0;32m   5582\u001b[0m             \u001b[1;32mreturn\u001b[0m \u001b[0mself\u001b[0m\u001b[1;33m[\u001b[0m\u001b[0mname\u001b[0m\u001b[1;33m]\u001b[0m\u001b[1;33m\u001b[0m\u001b[1;33m\u001b[0m\u001b[0m\n\u001b[1;32m-> 5583\u001b[1;33m         \u001b[1;32mreturn\u001b[0m \u001b[0mobject\u001b[0m\u001b[1;33m.\u001b[0m\u001b[0m__getattribute__\u001b[0m\u001b[1;33m(\u001b[0m\u001b[0mself\u001b[0m\u001b[1;33m,\u001b[0m \u001b[0mname\u001b[0m\u001b[1;33m)\u001b[0m\u001b[1;33m\u001b[0m\u001b[1;33m\u001b[0m\u001b[0m\n\u001b[0m\u001b[0;32m   5584\u001b[0m \u001b[1;33m\u001b[0m\u001b[0m\n\u001b[0;32m   5585\u001b[0m     \u001b[1;32mdef\u001b[0m \u001b[0m__setattr__\u001b[0m\u001b[1;33m(\u001b[0m\u001b[0mself\u001b[0m\u001b[1;33m,\u001b[0m \u001b[0mname\u001b[0m\u001b[1;33m:\u001b[0m \u001b[0mstr\u001b[0m\u001b[1;33m,\u001b[0m \u001b[0mvalue\u001b[0m\u001b[1;33m)\u001b[0m \u001b[1;33m->\u001b[0m \u001b[1;32mNone\u001b[0m\u001b[1;33m:\u001b[0m\u001b[1;33m\u001b[0m\u001b[1;33m\u001b[0m\u001b[0m\n",
      "\u001b[1;31mAttributeError\u001b[0m: 'DataFrame' object has no attribute 'max_speed'"
     ]
    }
   ],
   "source": [
    "print(sum(ev_data.kwh.str.contains('useable battery*')),\n",
    "sum(ev_data.acceleration.str.contains('sec')),\n",
    "sum(ev_data.max_speed.str.contains('km.h')),\n",
    "sum(ev_data.real_range.str.contains('km')),\n",
    "sum(ev_data.efficiency.str.contains('Wh/km')),\n",
    "sum(ev_data.fastcharge.str.contains('km/h')))"
   ]
  },
  {
   "cell_type": "code",
   "execution_count": 296,
   "id": "6dc46381-2a41-420d-8df0-321faf2b8989",
   "metadata": {},
   "outputs": [],
   "source": [
    "def numPart(string):\n",
    "    if string == '-':\n",
    "        return np.nan\n",
    "    else:\n",
    "        return re.search('[0-9,.]*',string).group()"
   ]
  },
  {
   "cell_type": "code",
   "execution_count": 357,
   "id": "0f8d9428-87d3-491f-927c-c5bb15be29a7",
   "metadata": {},
   "outputs": [],
   "source": [
    "def getPrice(string):\n",
    "    if string == 'N/A':\n",
    "        return np.nan\n",
    "    else:\n",
    "        string = string.replace('€','')\n",
    "        string = string.replace('£','')\n",
    "        string = string.replace(',','')\n",
    "        string = string.replace('*','')\n",
    "        string = string.strip()\n",
    "        \n",
    "        return string"
   ]
  },
  {
   "cell_type": "code",
   "execution_count": 350,
   "id": "43322a06-176b-4037-b365-37f7a5c8b4bc",
   "metadata": {},
   "outputs": [],
   "source": [
    "string_cols = ['manufacturer','model','released','release_month','release_year']\n",
    "num_cols = ['useable_battery','acceleration','max_speed','real_range',\n",
    "             'efficiency','fastcharge']\n",
    "price_cols = ['price_germany','price_ned','price_uk']"
   ]
  },
  {
   "cell_type": "code",
   "execution_count": 358,
   "id": "fbefa0da-bde9-4128-a2a4-d034252dd110",
   "metadata": {},
   "outputs": [],
   "source": [
    "ev_data = pd.DataFrame(data=dic_list,columns=list(dic.keys()))\n",
    "ev_data['manufacturer'] = ev_data['title'].apply(lambda x: x[:x.index(' ')])\n",
    "ev_data['model'] = ev_data['title'].apply(lambda x: x[x.index(' ' ):])\n",
    "ev_data['released'] = ev_data['date'].apply(lambda x: 1 if 'since' in x else 0)\n",
    "ev_data['release_month'] = ev_data['date'].apply(lambda x: getMonth(x))\n",
    "ev_data['release_year'] = ev_data['date'].apply(lambda x: x[-4:])\n",
    "\n",
    "for col in num_cols:\n",
    "    ev_data[col] = np.vectorize(numPart)(ev_data[col])\n",
    "    \n",
    "for price in price_cols:\n",
    "    ev_data[price] = ev_data[price].apply(lambda x: getPrice(x))\n",
    "    \n",
    "for col in ['fastcharge']+price_cols:\n",
    "    ev_data[col] = ev_data[col].apply(lambda x: np.nan if x=='nan' else x) \n",
    "\n",
    "col_order = string_cols+num_cols+price_cols\n",
    "\n",
    "ev_data = ev_data[col_order]"
   ]
  },
  {
   "cell_type": "code",
   "execution_count": 359,
   "id": "234c21cd-221b-428b-a880-25c66a52f211",
   "metadata": {},
   "outputs": [],
   "source": [
    "for col in num_cols:\n",
    "    try:\n",
    "        ev_data[col] = ev_data[col].astype('Int64')\n",
    "    except:\n",
    "        ev_data[col] = ev_data[col].astype('float')"
   ]
  },
  {
   "cell_type": "code",
   "execution_count": 363,
   "id": "018f8034-f490-4b80-bd1c-06347d1fc4b4",
   "metadata": {},
   "outputs": [],
   "source": [
    "for price in price_cols:\n",
    "    ev_data[price] = ev_data[price].astype('Int64')"
   ]
  },
  {
   "cell_type": "code",
   "execution_count": 377,
   "id": "dcf582ad-1011-482c-a522-647b80fa0571",
   "metadata": {},
   "outputs": [],
   "source": [
    "ev_data[string_cols] = ev_data[string_cols].astype('category')"
   ]
  },
  {
   "cell_type": "code",
   "execution_count": 812,
   "id": "c1e45763-7e44-4773-95c3-1d4aac41699e",
   "metadata": {},
   "outputs": [
    {
     "name": "stdout",
     "output_type": "stream",
     "text": [
      "<class 'pandas.core.frame.DataFrame'>\n",
      "RangeIndex: 298 entries, 0 to 297\n",
      "Data columns (total 14 columns):\n",
      " #   Column           Non-Null Count  Dtype   \n",
      "---  ------           --------------  -----   \n",
      " 0   manufacturer     298 non-null    category\n",
      " 1   model            298 non-null    object  \n",
      " 2   released         298 non-null    category\n",
      " 3   release_month    298 non-null    category\n",
      " 4   release_year     298 non-null    category\n",
      " 5   useable_battery  298 non-null    float64 \n",
      " 6   acceleration     298 non-null    float64 \n",
      " 7   max_speed        298 non-null    Int64   \n",
      " 8   real_range       298 non-null    Int64   \n",
      " 9   efficiency       298 non-null    Int64   \n",
      " 10  fastcharge       295 non-null    Int64   \n",
      " 11  price_germany    273 non-null    Int64   \n",
      " 12  price_ned        266 non-null    Int64   \n",
      " 13  price_uk         187 non-null    Int64   \n",
      "dtypes: Int64(7), category(4), float64(2), object(1)\n",
      "memory usage: 28.8+ KB\n"
     ]
    }
   ],
   "source": [
    "ev_data.info()"
   ]
  },
  {
   "cell_type": "code",
   "execution_count": 813,
   "id": "69f541d3-02d9-43ef-b778-bc09b4aee531",
   "metadata": {},
   "outputs": [],
   "source": [
    "ev_data.to_csv('../data/ev_data.csv')"
   ]
  }
 ],
 "metadata": {
  "kernelspec": {
   "display_name": "assessment4env",
   "language": "python",
   "name": "assessment4env"
  },
  "language_info": {
   "codemirror_mode": {
    "name": "ipython",
    "version": 3
   },
   "file_extension": ".py",
   "mimetype": "text/x-python",
   "name": "python",
   "nbconvert_exporter": "python",
   "pygments_lexer": "ipython3",
   "version": "3.8.15"
  }
 },
 "nbformat": 4,
 "nbformat_minor": 5
}
