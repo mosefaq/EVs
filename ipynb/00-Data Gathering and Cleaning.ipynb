{
 "cells": [
  {
   "cell_type": "markdown",
   "id": "2bb47067-4aed-4973-b586-913d67be72d0",
   "metadata": {},
   "source": [
    "Project is inspired by [Analytics Vidhya](https://www.analyticsvidhya.com/blog/2021/09/data-analysis-and-price-prediction-of-electric-vehicles/) and is an update on this [Kaggle dataset](https://www.kaggle.com/datasets/kkhandekar/cheapest-electric-cars)"
   ]
  },
  {
   "cell_type": "markdown",
   "id": "b645383f-a8fb-4c05-bebc-8ed22f7e10af",
   "metadata": {},
   "source": [
    "## Introduction"
   ]
  },
  {
   "cell_type": "markdown",
   "id": "5ed6fd39-23ab-4cf9-b903-7c2e686e3da4",
   "metadata": {},
   "source": [
    "List of all BEV from EDBV meeting following criteria:\n",
    "\n",
    ">The following criteria apply for vehicles to be included in EV Database. The vehicle must be:\n",
    "> - A Battery Electric Vehicle (BEV)\n",
    "> - Homologated as a passenger vehicle (European Vehicle Category M1)\n",
    "> - Available in Germany and/or The Netherlands and/or United Kingdom\n",
    "> - Available through a fully licensed distributor, importer or the manufacturer directly\n",
    "> - Mass-produced: intention to produce at least 500 mechanically identical vehicles for the European market\n",
    "\n",
    "The following dataset was last updated 27/02/2023"
   ]
  },
  {
   "cell_type": "markdown",
   "id": "44c444fb-0f40-453b-9fc9-b1f646d72f87",
   "metadata": {},
   "source": [
    "## Import"
   ]
  },
  {
   "cell_type": "code",
   "execution_count": 1,
   "id": "fea1a125-a71d-4a8b-9ae8-29cd907b0b88",
   "metadata": {},
   "outputs": [],
   "source": [
    "import numpy as np\n",
    "import regex as re\n",
    "import pandas as pd\n",
    "import selenium\n",
    "\n",
    "from selenium import webdriver\n",
    "\n",
    "from selenium.webdriver.common.by import By\n",
    "from selenium.webdriver.common.keys import Keys\n",
    "from selenium.webdriver.common.desired_capabilities import DesiredCapabilities\n",
    "from selenium.webdriver.support import expected_conditions as EC\n",
    "from selenium.webdriver.support.ui import WebDriverWait\n",
    "from selenium.webdriver.chrome.service import Service\n",
    "from webdriver_manager.chrome import ChromeDriverManager"
   ]
  },
  {
   "cell_type": "code",
   "execution_count": 4,
   "id": "b5a0ead6-5202-4cd8-99f4-bfe6f556ce1b",
   "metadata": {},
   "outputs": [],
   "source": [
    "option = webdriver.ChromeOptions()\n",
    "\n",
    "option.add_argument('--disable-dev-shm-usage')\n",
    "option.add_experimental_option(\"detach\", True)\n",
    "\n",
    "# enable browser logging\n",
    "d = DesiredCapabilities.CHROME\n",
    "d['goog:loggingPrefs'] = { 'browser':'ALL' }\n",
    "\n",
    "\n",
    "browser = webdriver.Chrome(service=Service(ChromeDriverManager().install()))\n",
    "wait = WebDriverWait(browser, timeout=10, poll_frequency=1)\n",
    "\n",
    "url = 'https://ev-database.org/#sort:path~type~order=.rank~number~desc|range-slider-range:prev~next=0~1200|range-slider-acceleration:prev~next=2~23|range-slider-topspeed:prev~next=110~350|range-slider-battery:prev~next=10~200|range-slider-towweight:prev~next=0~2500|range-slider-fastcharge:prev~next=0~1500|paging:currentPage=0|paging:number=all'\n",
    "browser.get(url)\n",
    "browser.maximize_window()"
   ]
  },
  {
   "cell_type": "markdown",
   "id": "6917f9bb-f154-4dca-bc0a-e7394ab699a5",
   "metadata": {},
   "source": []
  },
  {
   "cell_type": "code",
   "execution_count": 13,
   "id": "d0c87701-2e45-4830-a11f-7f61444c422a",
   "metadata": {},
   "outputs": [],
   "source": [
    "def clickXP(string):\n",
    "    '''\n",
    "    Description:\n",
    "    Returns element after it becomes clickable\n",
    "    '''\n",
    "    element = wait.until(EC.presence_of_element_located((By.XPATH, string)))\n",
    "    return element    \n",
    "\n",
    "def selectXP(string):\n",
    "    '''\n",
    "    Description:\n",
    "    Returns element after its presence is located\n",
    "    '''\n",
    "\n",
    "    # element = browser.find_element(By.XPATH,string)\n",
    "    element = wait.until(EC.presence_of_element_located((By.XPATH, string)))\n",
    "    return element"
   ]
  },
  {
   "cell_type": "code",
   "execution_count": 19,
   "id": "977f4ae7-0746-408a-8dc8-e4e30b41d11d",
   "metadata": {
    "collapsed": true,
    "jupyter": {
     "outputs_hidden": true
    },
    "tags": []
   },
   "outputs": [
    {
     "ename": "KeyboardInterrupt",
     "evalue": "",
     "output_type": "error",
     "traceback": [
      "\u001b[1;31m---------------------------------------------------------------------------\u001b[0m",
      "\u001b[1;31mKeyboardInterrupt\u001b[0m                         Traceback (most recent call last)",
      "\u001b[1;32m~\\AppData\\Local\\Temp\\ipykernel_29332\\4028102164.py\u001b[0m in \u001b[0;36m<module>\u001b[1;34m\u001b[0m\n\u001b[0;32m      1\u001b[0m \u001b[1;31m#accept cookies\u001b[0m\u001b[1;33m\u001b[0m\u001b[1;33m\u001b[0m\u001b[1;33m\u001b[0m\u001b[0m\n\u001b[1;32m----> 2\u001b[1;33m \u001b[0mclickXP\u001b[0m\u001b[1;33m(\u001b[0m\u001b[1;34m'//*[@id=\"evdb\"]/div[2]/div[2]/div[1]/div[2]/div[2]/button[1]/p'\u001b[0m\u001b[1;33m)\u001b[0m\u001b[1;33m.\u001b[0m\u001b[0mclick\u001b[0m\u001b[1;33m(\u001b[0m\u001b[1;33m)\u001b[0m\u001b[1;33m\u001b[0m\u001b[1;33m\u001b[0m\u001b[0m\n\u001b[0m",
      "\u001b[1;32m~\\AppData\\Local\\Temp\\ipykernel_29332\\2388587661.py\u001b[0m in \u001b[0;36mclickXP\u001b[1;34m(string)\u001b[0m\n\u001b[0;32m      4\u001b[0m     \u001b[0mReturns\u001b[0m \u001b[0melement\u001b[0m \u001b[0mafter\u001b[0m \u001b[0mit\u001b[0m \u001b[0mbecomes\u001b[0m \u001b[0mclickable\u001b[0m\u001b[1;33m\u001b[0m\u001b[1;33m\u001b[0m\u001b[0m\n\u001b[0;32m      5\u001b[0m     '''\n\u001b[1;32m----> 6\u001b[1;33m     \u001b[0melement\u001b[0m \u001b[1;33m=\u001b[0m \u001b[0mwait\u001b[0m\u001b[1;33m.\u001b[0m\u001b[0muntil\u001b[0m\u001b[1;33m(\u001b[0m\u001b[0mEC\u001b[0m\u001b[1;33m.\u001b[0m\u001b[0mpresence_of_element_located\u001b[0m\u001b[1;33m(\u001b[0m\u001b[1;33m(\u001b[0m\u001b[0mBy\u001b[0m\u001b[1;33m.\u001b[0m\u001b[0mXPATH\u001b[0m\u001b[1;33m,\u001b[0m \u001b[0mstring\u001b[0m\u001b[1;33m)\u001b[0m\u001b[1;33m)\u001b[0m\u001b[1;33m)\u001b[0m\u001b[1;33m\u001b[0m\u001b[1;33m\u001b[0m\u001b[0m\n\u001b[0m\u001b[0;32m      7\u001b[0m     \u001b[1;32mreturn\u001b[0m \u001b[0melement\u001b[0m\u001b[1;33m\u001b[0m\u001b[1;33m\u001b[0m\u001b[0m\n\u001b[0;32m      8\u001b[0m \u001b[1;33m\u001b[0m\u001b[0m\n",
      "\u001b[1;32m~\\.conda\\envs\\assessment4env\\lib\\site-packages\\selenium\\webdriver\\support\\wait.py\u001b[0m in \u001b[0;36muntil\u001b[1;34m(self, method, message)\u001b[0m\n\u001b[0;32m     90\u001b[0m                 \u001b[0mscreen\u001b[0m \u001b[1;33m=\u001b[0m \u001b[0mgetattr\u001b[0m\u001b[1;33m(\u001b[0m\u001b[0mexc\u001b[0m\u001b[1;33m,\u001b[0m \u001b[1;34m\"screen\"\u001b[0m\u001b[1;33m,\u001b[0m \u001b[1;32mNone\u001b[0m\u001b[1;33m)\u001b[0m\u001b[1;33m\u001b[0m\u001b[1;33m\u001b[0m\u001b[0m\n\u001b[0;32m     91\u001b[0m                 \u001b[0mstacktrace\u001b[0m \u001b[1;33m=\u001b[0m \u001b[0mgetattr\u001b[0m\u001b[1;33m(\u001b[0m\u001b[0mexc\u001b[0m\u001b[1;33m,\u001b[0m \u001b[1;34m\"stacktrace\"\u001b[0m\u001b[1;33m,\u001b[0m \u001b[1;32mNone\u001b[0m\u001b[1;33m)\u001b[0m\u001b[1;33m\u001b[0m\u001b[1;33m\u001b[0m\u001b[0m\n\u001b[1;32m---> 92\u001b[1;33m             \u001b[0mtime\u001b[0m\u001b[1;33m.\u001b[0m\u001b[0msleep\u001b[0m\u001b[1;33m(\u001b[0m\u001b[0mself\u001b[0m\u001b[1;33m.\u001b[0m\u001b[0m_poll\u001b[0m\u001b[1;33m)\u001b[0m\u001b[1;33m\u001b[0m\u001b[1;33m\u001b[0m\u001b[0m\n\u001b[0m\u001b[0;32m     93\u001b[0m             \u001b[1;32mif\u001b[0m \u001b[0mtime\u001b[0m\u001b[1;33m.\u001b[0m\u001b[0mmonotonic\u001b[0m\u001b[1;33m(\u001b[0m\u001b[1;33m)\u001b[0m \u001b[1;33m>\u001b[0m \u001b[0mend_time\u001b[0m\u001b[1;33m:\u001b[0m\u001b[1;33m\u001b[0m\u001b[1;33m\u001b[0m\u001b[0m\n\u001b[0;32m     94\u001b[0m                 \u001b[1;32mbreak\u001b[0m\u001b[1;33m\u001b[0m\u001b[1;33m\u001b[0m\u001b[0m\n",
      "\u001b[1;31mKeyboardInterrupt\u001b[0m: "
     ]
    }
   ],
   "source": [
    "#accept cookies\n",
    "clickXP('//*[@id=\"evdb\"]/div[2]/div[2]/div[1]/div[2]/div[2]/button[1]/p').click()"
   ]
  },
  {
   "cell_type": "code",
   "execution_count": 20,
   "id": "fd6ca2c5-5e4c-4481-b6f4-32abbff707bb",
   "metadata": {},
   "outputs": [],
   "source": [
    "#retrieve information container\n",
    "full_list = selectXP('//*[@id=\"evdb\"]/main/div[2]/div[3]')\n",
    "data_wrapper = full_list.find_elements(By.CLASS_NAME,'data-wrapper')"
   ]
  },
  {
   "cell_type": "code",
   "execution_count": 94,
   "id": "51c0ac3b-c0f1-4d7d-b236-0efa98cb6ef6",
   "metadata": {},
   "outputs": [],
   "source": [
    "def findXPATH(element,xpath):\n",
    "    return element.find_element(By.XPATH,xpath)\n",
    "\n",
    "def findCLASS(element,class_name):\n",
    "    return element.find_element(By.CLASS_NAME,class_name)\n",
    "\n",
    "#list of dicts with information fields of each vehicle\n",
    "ev_list = []\n",
    "\n",
    "#retrieve relevant information for each vehicle and store in dict\n",
    "for item in data_wrapper:\n",
    "    ev_dict = {}\n",
    "    title_wrap = findCLASS(item,'title-wrap')\n",
    "    icons = findCLASS(item,'icons')\n",
    "    specs = findCLASS(item,'specs')\n",
    "    pricing = findCLASS(item,'pricing')\n",
    "\n",
    "    #car name, kwh, and release date of vehicle\n",
    "    title_split = title_wrap.text.split('\\n')\n",
    "    #first word of car name is manufacturer\n",
    "    ev_dict['manufacturer'] = re.match('\\w+',title_split[0]).group() \n",
    "    #everything after first word is model name\n",
    "    try:\n",
    "        ev_dict['model'] = re.search('\\s[\\S\\s]+',title_split[0]).group().strip()\n",
    "    except:\n",
    "        print(title_split[0])\n",
    "    ev_dict['kwh'] = title_split[1]\n",
    "    ev_dict['release'] = title_split[2]\n",
    "\n",
    "    try: #not all cars have towing\n",
    "        ev_dict['towweight'] = findCLASS(icons,'towweight').text\n",
    "        ev_dict['drive'] = findXPATH(icons,'./span[4]').get_property('title')\n",
    "        ev_dict['plug'] = findXPATH(icons,'./span[5]').get_attribute('textContent') #hidden element\n",
    "        ev_dict['body'] = findXPATH(icons,'./span[6]').get_attribute('textContent')\n",
    "        ev_dict['market_segment'] = findXPATH(icons,'./span[7]').text\n",
    "        ev_dict['seats'] = findXPATH(icons,'./span[9]').text\n",
    "    except: #if no towweight, span nums change\n",
    "        ev_dict['towweight'] = 0\n",
    "        ev_dict['drive'] = findXPATH(icons,'./span[2]').get_property('title')\n",
    "        ev_dict['plug'] = findXPATH(icons,'./span[3]').get_attribute('textContent') #hidden element\n",
    "        ev_dict['body'] = findXPATH(icons,'./span[4]').get_attribute('textContent')\n",
    "        ev_dict['market_segment'] = findXPATH(icons,'./span[5]').text\n",
    "        ev_dict['seats'] = findXPATH(icons,'./span[7]').text\n",
    "\n",
    "\n",
    "    ev_dict['acceleration'] = findCLASS(specs,'acceleration').text\n",
    "    ev_dict['max_speed'] = findCLASS(specs,'topspeed').text\n",
    "    ev_dict['real_range'] =  findCLASS(specs,'erange_real').text\n",
    "    ev_dict['efficiency'] =  findCLASS(specs,'efficiency').text\n",
    "    ev_dict['fastcharge'] =  findXPATH(specs,'./p[5]/span[3]').get_attribute('textContent')\n",
    "\n",
    "    pricing_split = pricing.text.split('\\n')\n",
    "    ev_dict['price_germany'] = pricing_split[0]\n",
    "    ev_dict['price_ned'] = pricing_split[1]\n",
    "    ev_dict['price_uk'] = pricing_split[2]\n",
    "    \n",
    "    ev_list.append(ev_dict)"
   ]
  },
  {
   "cell_type": "code",
   "execution_count": 264,
   "id": "1ebccb6b-1e24-4bbb-af9c-1fddbdb93a4b",
   "metadata": {},
   "outputs": [],
   "source": [
    "ev_data = pd.DataFrame(data=ev_list,columns=list(ev_dict.keys()))"
   ]
  },
  {
   "cell_type": "code",
   "execution_count": 223,
   "id": "0163711b-8e23-49e3-adae-4ce7cdafe92e",
   "metadata": {},
   "outputs": [
    {
     "data": {
      "text/html": [
       "<div>\n",
       "<style scoped>\n",
       "    .dataframe tbody tr th:only-of-type {\n",
       "        vertical-align: middle;\n",
       "    }\n",
       "\n",
       "    .dataframe tbody tr th {\n",
       "        vertical-align: top;\n",
       "    }\n",
       "\n",
       "    .dataframe thead th {\n",
       "        text-align: right;\n",
       "    }\n",
       "</style>\n",
       "<table border=\"1\" class=\"dataframe\">\n",
       "  <thead>\n",
       "    <tr style=\"text-align: right;\">\n",
       "      <th></th>\n",
       "      <th>manufacturer</th>\n",
       "      <th>model</th>\n",
       "      <th>kwh</th>\n",
       "      <th>release</th>\n",
       "      <th>towweight</th>\n",
       "      <th>drive</th>\n",
       "      <th>plug</th>\n",
       "      <th>body</th>\n",
       "      <th>market_segment</th>\n",
       "      <th>seats</th>\n",
       "      <th>acceleration</th>\n",
       "      <th>max_speed</th>\n",
       "      <th>real_range</th>\n",
       "      <th>efficiency</th>\n",
       "      <th>fastcharge</th>\n",
       "      <th>price_germany</th>\n",
       "      <th>price_ned</th>\n",
       "      <th>price_uk</th>\n",
       "    </tr>\n",
       "  </thead>\n",
       "  <tbody>\n",
       "    <tr>\n",
       "      <th>0</th>\n",
       "      <td>Tesla</td>\n",
       "      <td>Model Y Long Range Dual Motor</td>\n",
       "      <td>75 kWh useable battery*</td>\n",
       "      <td>Available since February 2022</td>\n",
       "      <td>1600</td>\n",
       "      <td>All Wheel Drive</td>\n",
       "      <td>Type 2 CCS</td>\n",
       "      <td>SUV</td>\n",
       "      <td>D</td>\n",
       "      <td>5</td>\n",
       "      <td>5.0 sec</td>\n",
       "      <td>217 km/h</td>\n",
       "      <td>435 km</td>\n",
       "      <td>172 Wh/km</td>\n",
       "      <td>670</td>\n",
       "      <td>€59,017</td>\n",
       "      <td>€54,993</td>\n",
       "      <td>£52,990</td>\n",
       "    </tr>\n",
       "    <tr>\n",
       "      <th>1</th>\n",
       "      <td>Tesla</td>\n",
       "      <td>Model Y</td>\n",
       "      <td>57.5 kWh useable battery*</td>\n",
       "      <td>Available since November 2022</td>\n",
       "      <td>1600</td>\n",
       "      <td>Rear Wheel Drive</td>\n",
       "      <td>Type 2 CCS</td>\n",
       "      <td>SUV</td>\n",
       "      <td>D</td>\n",
       "      <td>5</td>\n",
       "      <td>6.9 sec</td>\n",
       "      <td>217 km/h</td>\n",
       "      <td>345 km</td>\n",
       "      <td>167 Wh/km</td>\n",
       "      <td>580</td>\n",
       "      <td>€47,567</td>\n",
       "      <td>€47,993</td>\n",
       "      <td>£44,990</td>\n",
       "    </tr>\n",
       "    <tr>\n",
       "      <th>2</th>\n",
       "      <td>Tesla</td>\n",
       "      <td>Model 3</td>\n",
       "      <td>57.5 kWh useable battery*</td>\n",
       "      <td>Available since December 2021</td>\n",
       "      <td>1000</td>\n",
       "      <td>Rear Wheel Drive</td>\n",
       "      <td>Type 2 CCS</td>\n",
       "      <td>Sedan</td>\n",
       "      <td>D</td>\n",
       "      <td>5</td>\n",
       "      <td>6.1 sec</td>\n",
       "      <td>225 km/h</td>\n",
       "      <td>380 km</td>\n",
       "      <td>151 Wh/km</td>\n",
       "      <td>630</td>\n",
       "      <td>€46,667</td>\n",
       "      <td>€45,993</td>\n",
       "      <td>£42,990</td>\n",
       "    </tr>\n",
       "    <tr>\n",
       "      <th>3</th>\n",
       "      <td>Tesla</td>\n",
       "      <td>Model 3 Long Range Dual Motor</td>\n",
       "      <td>75 kWh useable battery*</td>\n",
       "      <td>Available since November 2021</td>\n",
       "      <td>1000</td>\n",
       "      <td>All Wheel Drive</td>\n",
       "      <td>Type 2 CCS</td>\n",
       "      <td>Sedan</td>\n",
       "      <td>D</td>\n",
       "      <td>5</td>\n",
       "      <td>4.4 sec</td>\n",
       "      <td>233 km/h</td>\n",
       "      <td>485 km</td>\n",
       "      <td>155 Wh/km</td>\n",
       "      <td>750</td>\n",
       "      <td>€56,667</td>\n",
       "      <td>€53,993</td>\n",
       "      <td>£50,990</td>\n",
       "    </tr>\n",
       "    <tr>\n",
       "      <th>4</th>\n",
       "      <td>BYD</td>\n",
       "      <td>ATTO 3</td>\n",
       "      <td>60 kWh useable battery*</td>\n",
       "      <td>Available since August 2022</td>\n",
       "      <td>0</td>\n",
       "      <td>Front Wheel Drive</td>\n",
       "      <td>Type 2 CCS</td>\n",
       "      <td>SUV</td>\n",
       "      <td>C</td>\n",
       "      <td>5</td>\n",
       "      <td>7.3 sec</td>\n",
       "      <td>160 km/h</td>\n",
       "      <td>320 km</td>\n",
       "      <td>188 Wh/km</td>\n",
       "      <td>300</td>\n",
       "      <td>€44,625</td>\n",
       "      <td>€42,998</td>\n",
       "      <td>N/A</td>\n",
       "    </tr>\n",
       "  </tbody>\n",
       "</table>\n",
       "</div>"
      ],
      "text/plain": [
       "  manufacturer                          model                        kwh  \\\n",
       "0        Tesla  Model Y Long Range Dual Motor    75 kWh useable battery*   \n",
       "1        Tesla                        Model Y  57.5 kWh useable battery*   \n",
       "2        Tesla                        Model 3  57.5 kWh useable battery*   \n",
       "3        Tesla  Model 3 Long Range Dual Motor    75 kWh useable battery*   \n",
       "4          BYD                         ATTO 3    60 kWh useable battery*   \n",
       "\n",
       "                         release towweight              drive        plug  \\\n",
       "0  Available since February 2022      1600    All Wheel Drive  Type 2 CCS   \n",
       "1  Available since November 2022      1600   Rear Wheel Drive  Type 2 CCS   \n",
       "2  Available since December 2021      1000   Rear Wheel Drive  Type 2 CCS   \n",
       "3  Available since November 2021      1000    All Wheel Drive  Type 2 CCS   \n",
       "4    Available since August 2022         0  Front Wheel Drive  Type 2 CCS   \n",
       "\n",
       "    body market_segment seats acceleration max_speed real_range efficiency  \\\n",
       "0    SUV              D     5      5.0 sec  217 km/h     435 km  172 Wh/km   \n",
       "1    SUV              D     5      6.9 sec  217 km/h     345 km  167 Wh/km   \n",
       "2  Sedan              D     5      6.1 sec  225 km/h     380 km  151 Wh/km   \n",
       "3  Sedan              D     5      4.4 sec  233 km/h     485 km  155 Wh/km   \n",
       "4    SUV              C     5      7.3 sec  160 km/h     320 km  188 Wh/km   \n",
       "\n",
       "  fastcharge price_germany price_ned price_uk  \n",
       "0        670       €59,017   €54,993  £52,990  \n",
       "1        580       €47,567   €47,993  £44,990  \n",
       "2        630       €46,667   €45,993  £42,990  \n",
       "3        750       €56,667   €53,993  £50,990  \n",
       "4        300       €44,625   €42,998      N/A  "
      ]
     },
     "execution_count": 223,
     "metadata": {},
     "output_type": "execute_result"
    }
   ],
   "source": [
    "ev_data.head()"
   ]
  },
  {
   "cell_type": "markdown",
   "id": "51574635-1064-4358-a3a8-283e4627c184",
   "metadata": {},
   "source": [
    "The following information is retrieved:\n",
    "- `manufacturer`: manufacturer name e.g. BYD\n",
    "- `model`: model name e.g. ATTO 3\n",
    "- `kwh`: useable battery in kWh\n",
    "- `released`: whether EV has been released or not\n",
    "- `"
   ]
  },
  {
   "cell_type": "markdown",
   "id": "a30cde79-3ec5-410e-bb08-e0c36eabb338",
   "metadata": {},
   "source": [
    "## Data Cleaning"
   ]
  },
  {
   "cell_type": "code",
   "execution_count": 224,
   "id": "e775f0c0-647f-455c-a9b4-d41e50e88c5f",
   "metadata": {},
   "outputs": [
    {
     "name": "stdout",
     "output_type": "stream",
     "text": [
      "<class 'pandas.core.frame.DataFrame'>\n",
      "RangeIndex: 297 entries, 0 to 296\n",
      "Data columns (total 18 columns):\n",
      " #   Column          Non-Null Count  Dtype \n",
      "---  ------          --------------  ----- \n",
      " 0   manufacturer    297 non-null    object\n",
      " 1   model           297 non-null    object\n",
      " 2   kwh             297 non-null    object\n",
      " 3   release         297 non-null    object\n",
      " 4   towweight       297 non-null    object\n",
      " 5   drive           297 non-null    object\n",
      " 6   plug            297 non-null    object\n",
      " 7   body            297 non-null    object\n",
      " 8   market_segment  297 non-null    object\n",
      " 9   seats           297 non-null    object\n",
      " 10  acceleration    297 non-null    object\n",
      " 11  max_speed       297 non-null    object\n",
      " 12  real_range      297 non-null    object\n",
      " 13  efficiency      297 non-null    object\n",
      " 14  fastcharge      297 non-null    object\n",
      " 15  price_germany   297 non-null    object\n",
      " 16  price_ned       297 non-null    object\n",
      " 17  price_uk        297 non-null    object\n",
      "dtypes: object(18)\n",
      "memory usage: 41.9+ KB\n"
     ]
    }
   ],
   "source": [
    "ev_data.info()"
   ]
  },
  {
   "cell_type": "markdown",
   "id": "89ad38a8-d814-4edc-8a2c-d4167434804c",
   "metadata": {},
   "source": [
    "### Re-checking for nulls"
   ]
  },
  {
   "cell_type": "code",
   "execution_count": 265,
   "id": "f4532552-fce2-4696-b8e8-c6ec1fb9db21",
   "metadata": {},
   "outputs": [],
   "source": [
    "for col in ev_data.columns:\n",
    "    ev_data[col] = ev_data[col].apply(lambda x: np.nan if x=='' else x)"
   ]
  },
  {
   "cell_type": "code",
   "execution_count": 266,
   "id": "08cfa75f-4f27-4bc9-b746-3bc0519a267b",
   "metadata": {},
   "outputs": [
    {
     "name": "stdout",
     "output_type": "stream",
     "text": [
      "Column towweight has 2 null values\n",
      "Column market_segment has 1 null values\n",
      "Column fastcharge has 3 null values\n"
     ]
    }
   ],
   "source": [
    "for col in ev_data.columns:\n",
    "    total_null = sum(ev_data[col].isnull())\n",
    "    if total_null>0:\n",
    "        print('Column',col,'has',total_null,'null values')"
   ]
  },
  {
   "cell_type": "markdown",
   "id": "ccf60bc0-a35f-4598-8327-11a06e302da8",
   "metadata": {
    "tags": []
   },
   "source": [
    "### Release Date -- Cleaning/Transforming "
   ]
  },
  {
   "cell_type": "markdown",
   "id": "769a44ad-2ad4-4fe6-b75e-0d4d11c78aff",
   "metadata": {},
   "source": [
    "To start, we want to transform 'release' column into:\n",
    " - 'released': Whether the car has been released or not\n",
    " - 'release_month': What month the car was/will be released\n",
    " - 'release_year': What year the car was/will be released"
   ]
  },
  {
   "cell_type": "markdown",
   "id": "039cb0b8-7016-499d-a713-7a04506fe060",
   "metadata": {},
   "source": [
    "275 cars released, 22 yet to be released:"
   ]
  },
  {
   "cell_type": "code",
   "execution_count": 267,
   "id": "f877af6d-5781-45bd-b89f-016a5a2e6c1e",
   "metadata": {},
   "outputs": [
    {
     "name": "stdout",
     "output_type": "stream",
     "text": [
      "Released: 275 \n",
      "Yet to be released: 22\n"
     ]
    }
   ],
   "source": [
    "print('Released:', sum(ev_data['release'].str.contains('since')), '\\nYet to be released:', sum(ev_data['release'].str.contains('from')))"
   ]
  },
  {
   "cell_type": "code",
   "execution_count": 268,
   "id": "0e007243-c1df-4770-a48d-640d5b704b72",
   "metadata": {},
   "outputs": [],
   "source": [
    "def getMonth(string):\n",
    "    '''\n",
    "    Description:\n",
    "    For specific release string, retrieves the month that the car is released/to be released\n",
    "    \n",
    "    Parameters:\n",
    "     - str - str type object\n",
    "     \n",
    "    Returns:\n",
    "    str\n",
    "    \n",
    "    Example:\n",
    "    >>> input:  yearDelay('Available since February 2022')\n",
    "    >>> output: February\n",
    "    '''\n",
    "    #regex matches everything after second word \n",
    "        # (?<=A)  everything after A\n",
    "        # \\w+\\s\\w+\\s 2 sets of alphanumerics followed by space\n",
    "    return re.search('(?<=(\\w+\\s\\w+\\s))\\S+',string).group()"
   ]
  },
  {
   "cell_type": "code",
   "execution_count": 269,
   "id": "b33fabb6-950c-40e0-a284-3f9b7a028251",
   "metadata": {},
   "outputs": [],
   "source": [
    "ev_data['released'] = ev_data['release'].apply(lambda x: 1 if 'since' in x else 0)\n",
    "ev_data['release_month'] = ev_data['release'].apply(getMonth)\n",
    "ev_data['release_year'] = ev_data['release'].apply(lambda x: x[-4:])"
   ]
  },
  {
   "cell_type": "code",
   "execution_count": 270,
   "id": "ded6b7f8-730e-43b5-a3e1-baf0899305dd",
   "metadata": {},
   "outputs": [
    {
     "data": {
      "text/html": [
       "<div>\n",
       "<style scoped>\n",
       "    .dataframe tbody tr th:only-of-type {\n",
       "        vertical-align: middle;\n",
       "    }\n",
       "\n",
       "    .dataframe tbody tr th {\n",
       "        vertical-align: top;\n",
       "    }\n",
       "\n",
       "    .dataframe thead th {\n",
       "        text-align: right;\n",
       "    }\n",
       "</style>\n",
       "<table border=\"1\" class=\"dataframe\">\n",
       "  <thead>\n",
       "    <tr style=\"text-align: right;\">\n",
       "      <th></th>\n",
       "      <th>release</th>\n",
       "      <th>released</th>\n",
       "      <th>release_month</th>\n",
       "      <th>release_year</th>\n",
       "    </tr>\n",
       "  </thead>\n",
       "  <tbody>\n",
       "    <tr>\n",
       "      <th>0</th>\n",
       "      <td>Available since February 2022</td>\n",
       "      <td>1</td>\n",
       "      <td>February</td>\n",
       "      <td>2022</td>\n",
       "    </tr>\n",
       "    <tr>\n",
       "      <th>1</th>\n",
       "      <td>Available since November 2022</td>\n",
       "      <td>1</td>\n",
       "      <td>November</td>\n",
       "      <td>2022</td>\n",
       "    </tr>\n",
       "    <tr>\n",
       "      <th>2</th>\n",
       "      <td>Available since December 2021</td>\n",
       "      <td>1</td>\n",
       "      <td>December</td>\n",
       "      <td>2021</td>\n",
       "    </tr>\n",
       "    <tr>\n",
       "      <th>3</th>\n",
       "      <td>Available since November 2021</td>\n",
       "      <td>1</td>\n",
       "      <td>November</td>\n",
       "      <td>2021</td>\n",
       "    </tr>\n",
       "    <tr>\n",
       "      <th>4</th>\n",
       "      <td>Available since August 2022</td>\n",
       "      <td>1</td>\n",
       "      <td>August</td>\n",
       "      <td>2022</td>\n",
       "    </tr>\n",
       "  </tbody>\n",
       "</table>\n",
       "</div>"
      ],
      "text/plain": [
       "                         release  released release_month release_year\n",
       "0  Available since February 2022         1      February         2022\n",
       "1  Available since November 2022         1      November         2022\n",
       "2  Available since December 2021         1      December         2021\n",
       "3  Available since November 2021         1      November         2021\n",
       "4    Available since August 2022         1        August         2022"
      ]
     },
     "execution_count": 270,
     "metadata": {},
     "output_type": "execute_result"
    }
   ],
   "source": [
    "ev_data[['release','released','release_month','release_year']].head()"
   ]
  },
  {
   "cell_type": "markdown",
   "id": "154b05b7-439b-4342-8079-ec42893291c7",
   "metadata": {},
   "source": [
    "### Cleaning Numerical Columns"
   ]
  },
  {
   "cell_type": "markdown",
   "id": "68de4e38-9e0e-48d3-9c3a-487bb3d3176d",
   "metadata": {},
   "source": [
    "All the following numerical columns contain text that we want removed"
   ]
  },
  {
   "cell_type": "code",
   "execution_count": 271,
   "id": "928d6b35-4320-4d3b-b98b-b408c4b46c5f",
   "metadata": {},
   "outputs": [
    {
     "name": "stdout",
     "output_type": "stream",
     "text": [
      "297 297 297 297 297\n"
     ]
    }
   ],
   "source": [
    "print(sum(ev_data.kwh.str.contains('useable battery*')),\n",
    "      sum(ev_data.acceleration.str.contains('sec')),\n",
    "      sum(ev_data.max_speed.str.contains('km.h')),\n",
    "      sum(ev_data.real_range.str.contains('km')),\n",
    "      sum(ev_data.efficiency.str.contains('Wh/km')))"
   ]
  },
  {
   "cell_type": "code",
   "execution_count": 272,
   "id": "7be54cf4-40b5-43b9-b941-3647b6a10b55",
   "metadata": {},
   "outputs": [],
   "source": [
    "num_cols = ['kwh','acceleration','max_speed','real_range','efficiency']"
   ]
  },
  {
   "cell_type": "code",
   "execution_count": 273,
   "id": "6f190d5f-1953-44ea-b892-ff50995dc487",
   "metadata": {},
   "outputs": [],
   "source": [
    "for col in num_cols:\n",
    "    #all these follow format of [num] [measure], so we\n",
    "    ev_data[col] = ev_data[col].apply(lambda x: re.match('\\S+',x).group())"
   ]
  },
  {
   "cell_type": "code",
   "execution_count": 274,
   "id": "65c3ef51-7fbf-4316-a94e-ea88d98667ff",
   "metadata": {},
   "outputs": [
    {
     "data": {
      "text/html": [
       "<div>\n",
       "<style scoped>\n",
       "    .dataframe tbody tr th:only-of-type {\n",
       "        vertical-align: middle;\n",
       "    }\n",
       "\n",
       "    .dataframe tbody tr th {\n",
       "        vertical-align: top;\n",
       "    }\n",
       "\n",
       "    .dataframe thead th {\n",
       "        text-align: right;\n",
       "    }\n",
       "</style>\n",
       "<table border=\"1\" class=\"dataframe\">\n",
       "  <thead>\n",
       "    <tr style=\"text-align: right;\">\n",
       "      <th></th>\n",
       "      <th>kwh</th>\n",
       "      <th>acceleration</th>\n",
       "      <th>max_speed</th>\n",
       "      <th>real_range</th>\n",
       "      <th>efficiency</th>\n",
       "    </tr>\n",
       "  </thead>\n",
       "  <tbody>\n",
       "    <tr>\n",
       "      <th>0</th>\n",
       "      <td>75</td>\n",
       "      <td>5.0</td>\n",
       "      <td>217</td>\n",
       "      <td>435</td>\n",
       "      <td>172</td>\n",
       "    </tr>\n",
       "    <tr>\n",
       "      <th>1</th>\n",
       "      <td>57.5</td>\n",
       "      <td>6.9</td>\n",
       "      <td>217</td>\n",
       "      <td>345</td>\n",
       "      <td>167</td>\n",
       "    </tr>\n",
       "    <tr>\n",
       "      <th>2</th>\n",
       "      <td>57.5</td>\n",
       "      <td>6.1</td>\n",
       "      <td>225</td>\n",
       "      <td>380</td>\n",
       "      <td>151</td>\n",
       "    </tr>\n",
       "    <tr>\n",
       "      <th>3</th>\n",
       "      <td>75</td>\n",
       "      <td>4.4</td>\n",
       "      <td>233</td>\n",
       "      <td>485</td>\n",
       "      <td>155</td>\n",
       "    </tr>\n",
       "    <tr>\n",
       "      <th>4</th>\n",
       "      <td>60</td>\n",
       "      <td>7.3</td>\n",
       "      <td>160</td>\n",
       "      <td>320</td>\n",
       "      <td>188</td>\n",
       "    </tr>\n",
       "  </tbody>\n",
       "</table>\n",
       "</div>"
      ],
      "text/plain": [
       "    kwh acceleration max_speed real_range efficiency\n",
       "0    75          5.0       217        435        172\n",
       "1  57.5          6.9       217        345        167\n",
       "2  57.5          6.1       225        380        151\n",
       "3    75          4.4       233        485        155\n",
       "4    60          7.3       160        320        188"
      ]
     },
     "execution_count": 274,
     "metadata": {},
     "output_type": "execute_result"
    }
   ],
   "source": [
    "ev_data[num_cols].head()"
   ]
  },
  {
   "cell_type": "markdown",
   "id": "234295f1-efd0-45db-afbf-e52c7c4e61b0",
   "metadata": {},
   "source": [
    "### Cleaning Price"
   ]
  },
  {
   "cell_type": "code",
   "execution_count": 275,
   "id": "2af59dba-367a-4e9d-ab78-7dcaa2a9d376",
   "metadata": {},
   "outputs": [],
   "source": [
    "price_cols = ['price_germany','price_ned','price_uk']\n",
    "\n",
    "for price in price_cols:\n",
    "    ev_data[price] = ev_data[price].apply(lambda x: getPrice(x) if x!='N/A' else np.nan)"
   ]
  },
  {
   "cell_type": "code",
   "execution_count": 276,
   "id": "f32689c3-d397-4e13-a4a1-d516ddb71333",
   "metadata": {},
   "outputs": [
    {
     "data": {
      "text/html": [
       "<div>\n",
       "<style scoped>\n",
       "    .dataframe tbody tr th:only-of-type {\n",
       "        vertical-align: middle;\n",
       "    }\n",
       "\n",
       "    .dataframe tbody tr th {\n",
       "        vertical-align: top;\n",
       "    }\n",
       "\n",
       "    .dataframe thead th {\n",
       "        text-align: right;\n",
       "    }\n",
       "</style>\n",
       "<table border=\"1\" class=\"dataframe\">\n",
       "  <thead>\n",
       "    <tr style=\"text-align: right;\">\n",
       "      <th></th>\n",
       "      <th>price_germany</th>\n",
       "      <th>price_ned</th>\n",
       "      <th>price_uk</th>\n",
       "    </tr>\n",
       "  </thead>\n",
       "  <tbody>\n",
       "    <tr>\n",
       "      <th>0</th>\n",
       "      <td>59017</td>\n",
       "      <td>54993</td>\n",
       "      <td>52990</td>\n",
       "    </tr>\n",
       "    <tr>\n",
       "      <th>1</th>\n",
       "      <td>47567</td>\n",
       "      <td>47993</td>\n",
       "      <td>44990</td>\n",
       "    </tr>\n",
       "    <tr>\n",
       "      <th>2</th>\n",
       "      <td>46667</td>\n",
       "      <td>45993</td>\n",
       "      <td>42990</td>\n",
       "    </tr>\n",
       "    <tr>\n",
       "      <th>3</th>\n",
       "      <td>56667</td>\n",
       "      <td>53993</td>\n",
       "      <td>50990</td>\n",
       "    </tr>\n",
       "    <tr>\n",
       "      <th>4</th>\n",
       "      <td>44625</td>\n",
       "      <td>42998</td>\n",
       "      <td>NaN</td>\n",
       "    </tr>\n",
       "  </tbody>\n",
       "</table>\n",
       "</div>"
      ],
      "text/plain": [
       "  price_germany price_ned price_uk\n",
       "0         59017     54993    52990\n",
       "1         47567     47993    44990\n",
       "2         46667     45993    42990\n",
       "3         56667     53993    50990\n",
       "4         44625     42998      NaN"
      ]
     },
     "execution_count": 276,
     "metadata": {},
     "output_type": "execute_result"
    }
   ],
   "source": [
    "ev_data[price_cols].head()"
   ]
  },
  {
   "cell_type": "code",
   "execution_count": 277,
   "id": "5b5c3fe1-3d86-4fee-854a-32cacdcc2c86",
   "metadata": {},
   "outputs": [
    {
     "name": "stdout",
     "output_type": "stream",
     "text": [
      "<class 'pandas.core.frame.DataFrame'>\n",
      "RangeIndex: 297 entries, 0 to 296\n",
      "Data columns (total 3 columns):\n",
      " #   Column         Non-Null Count  Dtype \n",
      "---  ------         --------------  ----- \n",
      " 0   price_germany  272 non-null    object\n",
      " 1   price_ned      265 non-null    object\n",
      " 2   price_uk       187 non-null    object\n",
      "dtypes: object(3)\n",
      "memory usage: 7.1+ KB\n"
     ]
    }
   ],
   "source": [
    "ev_data[price_cols].info()"
   ]
  },
  {
   "cell_type": "markdown",
   "id": "95be4e65-f227-48bb-bb07-e7970eaa121c",
   "metadata": {},
   "source": [
    "### Final Touches"
   ]
  },
  {
   "cell_type": "code",
   "execution_count": 278,
   "id": "9166b19c-93a9-42b3-b9d9-93241b33938d",
   "metadata": {},
   "outputs": [
    {
     "data": {
      "text/html": [
       "<div>\n",
       "<style scoped>\n",
       "    .dataframe tbody tr th:only-of-type {\n",
       "        vertical-align: middle;\n",
       "    }\n",
       "\n",
       "    .dataframe tbody tr th {\n",
       "        vertical-align: top;\n",
       "    }\n",
       "\n",
       "    .dataframe thead th {\n",
       "        text-align: right;\n",
       "    }\n",
       "</style>\n",
       "<table border=\"1\" class=\"dataframe\">\n",
       "  <thead>\n",
       "    <tr style=\"text-align: right;\">\n",
       "      <th></th>\n",
       "      <th>model</th>\n",
       "      <th>manufacturer</th>\n",
       "      <th>released</th>\n",
       "      <th>release_month</th>\n",
       "      <th>release_year</th>\n",
       "      <th>drive</th>\n",
       "      <th>body</th>\n",
       "      <th>seats</th>\n",
       "      <th>market_segment</th>\n",
       "      <th>plug</th>\n",
       "      <th>towweight</th>\n",
       "      <th>kwh</th>\n",
       "      <th>acceleration</th>\n",
       "      <th>max_speed</th>\n",
       "      <th>real_range</th>\n",
       "      <th>efficiency</th>\n",
       "      <th>fastcharge</th>\n",
       "      <th>price_germany</th>\n",
       "      <th>price_ned</th>\n",
       "      <th>price_uk</th>\n",
       "    </tr>\n",
       "  </thead>\n",
       "  <tbody>\n",
       "    <tr>\n",
       "      <th>0</th>\n",
       "      <td>Model Y Long Range Dual Motor</td>\n",
       "      <td>Tesla</td>\n",
       "      <td>1</td>\n",
       "      <td>February</td>\n",
       "      <td>2022</td>\n",
       "      <td>All Wheel Drive</td>\n",
       "      <td>SUV</td>\n",
       "      <td>5</td>\n",
       "      <td>D</td>\n",
       "      <td>Type 2 CCS</td>\n",
       "      <td>1600</td>\n",
       "      <td>75</td>\n",
       "      <td>5.0</td>\n",
       "      <td>217</td>\n",
       "      <td>435</td>\n",
       "      <td>172</td>\n",
       "      <td>670</td>\n",
       "      <td>59017</td>\n",
       "      <td>54993</td>\n",
       "      <td>52990</td>\n",
       "    </tr>\n",
       "    <tr>\n",
       "      <th>1</th>\n",
       "      <td>Model Y</td>\n",
       "      <td>Tesla</td>\n",
       "      <td>1</td>\n",
       "      <td>November</td>\n",
       "      <td>2022</td>\n",
       "      <td>Rear Wheel Drive</td>\n",
       "      <td>SUV</td>\n",
       "      <td>5</td>\n",
       "      <td>D</td>\n",
       "      <td>Type 2 CCS</td>\n",
       "      <td>1600</td>\n",
       "      <td>57.5</td>\n",
       "      <td>6.9</td>\n",
       "      <td>217</td>\n",
       "      <td>345</td>\n",
       "      <td>167</td>\n",
       "      <td>580</td>\n",
       "      <td>47567</td>\n",
       "      <td>47993</td>\n",
       "      <td>44990</td>\n",
       "    </tr>\n",
       "    <tr>\n",
       "      <th>2</th>\n",
       "      <td>Model 3</td>\n",
       "      <td>Tesla</td>\n",
       "      <td>1</td>\n",
       "      <td>December</td>\n",
       "      <td>2021</td>\n",
       "      <td>Rear Wheel Drive</td>\n",
       "      <td>Sedan</td>\n",
       "      <td>5</td>\n",
       "      <td>D</td>\n",
       "      <td>Type 2 CCS</td>\n",
       "      <td>1000</td>\n",
       "      <td>57.5</td>\n",
       "      <td>6.1</td>\n",
       "      <td>225</td>\n",
       "      <td>380</td>\n",
       "      <td>151</td>\n",
       "      <td>630</td>\n",
       "      <td>46667</td>\n",
       "      <td>45993</td>\n",
       "      <td>42990</td>\n",
       "    </tr>\n",
       "    <tr>\n",
       "      <th>3</th>\n",
       "      <td>Model 3 Long Range Dual Motor</td>\n",
       "      <td>Tesla</td>\n",
       "      <td>1</td>\n",
       "      <td>November</td>\n",
       "      <td>2021</td>\n",
       "      <td>All Wheel Drive</td>\n",
       "      <td>Sedan</td>\n",
       "      <td>5</td>\n",
       "      <td>D</td>\n",
       "      <td>Type 2 CCS</td>\n",
       "      <td>1000</td>\n",
       "      <td>75</td>\n",
       "      <td>4.4</td>\n",
       "      <td>233</td>\n",
       "      <td>485</td>\n",
       "      <td>155</td>\n",
       "      <td>750</td>\n",
       "      <td>56667</td>\n",
       "      <td>53993</td>\n",
       "      <td>50990</td>\n",
       "    </tr>\n",
       "    <tr>\n",
       "      <th>4</th>\n",
       "      <td>ATTO 3</td>\n",
       "      <td>BYD</td>\n",
       "      <td>1</td>\n",
       "      <td>August</td>\n",
       "      <td>2022</td>\n",
       "      <td>Front Wheel Drive</td>\n",
       "      <td>SUV</td>\n",
       "      <td>5</td>\n",
       "      <td>C</td>\n",
       "      <td>Type 2 CCS</td>\n",
       "      <td>0</td>\n",
       "      <td>60</td>\n",
       "      <td>7.3</td>\n",
       "      <td>160</td>\n",
       "      <td>320</td>\n",
       "      <td>188</td>\n",
       "      <td>300</td>\n",
       "      <td>44625</td>\n",
       "      <td>42998</td>\n",
       "      <td>NaN</td>\n",
       "    </tr>\n",
       "  </tbody>\n",
       "</table>\n",
       "</div>"
      ],
      "text/plain": [
       "                           model manufacturer  released release_month  \\\n",
       "0  Model Y Long Range Dual Motor        Tesla         1      February   \n",
       "1                        Model Y        Tesla         1      November   \n",
       "2                        Model 3        Tesla         1      December   \n",
       "3  Model 3 Long Range Dual Motor        Tesla         1      November   \n",
       "4                         ATTO 3          BYD         1        August   \n",
       "\n",
       "  release_year              drive   body seats market_segment        plug  \\\n",
       "0         2022    All Wheel Drive    SUV     5              D  Type 2 CCS   \n",
       "1         2022   Rear Wheel Drive    SUV     5              D  Type 2 CCS   \n",
       "2         2021   Rear Wheel Drive  Sedan     5              D  Type 2 CCS   \n",
       "3         2021    All Wheel Drive  Sedan     5              D  Type 2 CCS   \n",
       "4         2022  Front Wheel Drive    SUV     5              C  Type 2 CCS   \n",
       "\n",
       "  towweight   kwh acceleration max_speed real_range efficiency fastcharge  \\\n",
       "0      1600    75          5.0       217        435        172        670   \n",
       "1      1600  57.5          6.9       217        345        167        580   \n",
       "2      1000  57.5          6.1       225        380        151        630   \n",
       "3      1000    75          4.4       233        485        155        750   \n",
       "4         0    60          7.3       160        320        188        300   \n",
       "\n",
       "  price_germany price_ned price_uk  \n",
       "0         59017     54993    52990  \n",
       "1         47567     47993    44990  \n",
       "2         46667     45993    42990  \n",
       "3         56667     53993    50990  \n",
       "4         44625     42998      NaN  "
      ]
     },
     "execution_count": 278,
     "metadata": {},
     "output_type": "execute_result"
    }
   ],
   "source": [
    "string_col = ['model']\n",
    "categ_cols = ['manufacturer','released','release_month','release_year','drive','body','seats','market_segment','plug']\n",
    "num_cols = ['towweight','kwh','acceleration','max_speed','real_range','efficiency','fastcharge']\n",
    "price_cols = ['price_germany','price_ned','price_uk']\n",
    "\n",
    "#reorder columns\n",
    "col_order = string_col+categ_cols+num_cols+price_cols\n",
    "ev_data = ev_data[col_order]\n",
    "ev_data.head()"
   ]
  },
  {
   "cell_type": "code",
   "execution_count": 295,
   "id": "6f8754d8-aee5-485d-b9cf-2808c986766c",
   "metadata": {},
   "outputs": [],
   "source": [
    "ev_data[categ_cols] = ev_data[categ_cols].astype('category')\n",
    "ev_data[num_cols+price_cols] = ev_data[num_cols+price_cols].astype('float')"
   ]
  },
  {
   "cell_type": "code",
   "execution_count": 297,
   "id": "c1e45763-7e44-4773-95c3-1d4aac41699e",
   "metadata": {},
   "outputs": [
    {
     "name": "stdout",
     "output_type": "stream",
     "text": [
      "<class 'pandas.core.frame.DataFrame'>\n",
      "RangeIndex: 297 entries, 0 to 296\n",
      "Data columns (total 20 columns):\n",
      " #   Column          Non-Null Count  Dtype   \n",
      "---  ------          --------------  -----   \n",
      " 0   model           297 non-null    object  \n",
      " 1   manufacturer    297 non-null    category\n",
      " 2   released        297 non-null    category\n",
      " 3   release_month   297 non-null    category\n",
      " 4   release_year    297 non-null    category\n",
      " 5   drive           297 non-null    category\n",
      " 6   body            297 non-null    category\n",
      " 7   seats           297 non-null    category\n",
      " 8   market_segment  296 non-null    category\n",
      " 9   plug            297 non-null    category\n",
      " 10  towweight       295 non-null    float64 \n",
      " 11  kwh             297 non-null    float64 \n",
      " 12  acceleration    297 non-null    float64 \n",
      " 13  max_speed       297 non-null    float64 \n",
      " 14  real_range      297 non-null    float64 \n",
      " 15  efficiency      297 non-null    float64 \n",
      " 16  fastcharge      294 non-null    float64 \n",
      " 17  price_germany   272 non-null    float64 \n",
      " 18  price_ned       265 non-null    float64 \n",
      " 19  price_uk        187 non-null    float64 \n",
      "dtypes: category(9), float64(10), object(1)\n",
      "memory usage: 31.9+ KB\n"
     ]
    }
   ],
   "source": [
    "ev_data.info()"
   ]
  },
  {
   "cell_type": "code",
   "execution_count": 298,
   "id": "69f541d3-02d9-43ef-b778-bc09b4aee531",
   "metadata": {},
   "outputs": [],
   "source": [
    "ev_data.to_csv('../data/ev_data.csv',index=False)"
   ]
  },
  {
   "cell_type": "code",
   "execution_count": null,
   "id": "4e356409-c17e-489c-9feb-3f65af2a0819",
   "metadata": {},
   "outputs": [],
   "source": []
  }
 ],
 "metadata": {
  "kernelspec": {
   "display_name": "assessment4env",
   "language": "python",
   "name": "assessment4env"
  },
  "language_info": {
   "codemirror_mode": {
    "name": "ipython",
    "version": 3
   },
   "file_extension": ".py",
   "mimetype": "text/x-python",
   "name": "python",
   "nbconvert_exporter": "python",
   "pygments_lexer": "ipython3",
   "version": "3.8.15"
  }
 },
 "nbformat": 4,
 "nbformat_minor": 5
}
